{
  "nbformat": 4,
  "nbformat_minor": 0,
  "metadata": {
    "colab": {
      "name": "UdacityKaggleAnime.ipynb",
      "provenance": []
    },
    "kernelspec": {
      "name": "python3",
      "display_name": "Python 3"
    },
    "language_info": {
      "name": "python"
    }
  },
  "cells": [
    {
      "cell_type": "markdown",
      "source": [
        "Import Statements"
      ],
      "metadata": {
        "id": "0ae1TSS8CWj8"
      }
    },
    {
      "cell_type": "code",
      "source": [
        "import pandas as pd\n",
        "import matplotlib.pyplot as plt\n",
        "import numpy as np\n",
        "from datetime import datetime"
      ],
      "metadata": {
        "id": "dU8n_37-Cb9I"
      },
      "execution_count": null,
      "outputs": []
    },
    {
      "cell_type": "markdown",
      "source": [
        "Questions To Be Answered"
      ],
      "metadata": {
        "id": "wUnbsybGBGzm"
      }
    },
    {
      "cell_type": "markdown",
      "source": [
        "\n",
        "\n",
        "*   What are the most popular movies\n",
        "*   What are the most popular movies according to season\n",
        "*   What Genre do most persons love\n",
        "*   What studio makes the best movies\n",
        "\n",
        "\n",
        "\n"
      ],
      "metadata": {
        "id": "jZxUepHLGgmc"
      }
    },
    {
      "cell_type": "markdown",
      "source": [
        "Gather and Inspect Data"
      ],
      "metadata": {
        "id": "ihc4TIR-CuXy"
      }
    },
    {
      "cell_type": "code",
      "source": [
        "df = pd.read_csv(\"AnimeWorld.csv\")\n",
        "df.head()"
      ],
      "metadata": {
        "colab": {
          "base_uri": "https://localhost:8080/",
          "height": 333
        },
        "id": "t_OBd6CnCs47",
        "outputId": "9cc5fd2f-7597-4f29-d0f6-465389347638"
      },
      "execution_count": null,
      "outputs": [
        {
          "output_type": "execute_result",
          "data": {
            "text/plain": [
              "   Unnamed: 0                                              Anime  \\\n",
              "0           0   Re:Zero kara Hajimeru Isekai Seikatsu 2nd Season   \n",
              "1           1                               Kanojo, Okarishimasu   \n",
              "2           2                             The God of High School   \n",
              "3           3  Maou Gakuin no Futekigousha: Shijou Saikyou no...   \n",
              "4           4                     Enen no Shouboutai: Ni no Shou   \n",
              "\n",
              "                                             Genre  \\\n",
              "0                 ['Drama', 'Fantasy', 'Suspense']   \n",
              "1                            ['Comedy', 'Romance']   \n",
              "2  ['Action', 'Fantasy', 'Sci-Fi', 'Supernatural']   \n",
              "3                            ['Action', 'Fantasy']   \n",
              "4                       ['Action', 'Supernatural']   \n",
              "\n",
              "                                         Description             Studio  \\\n",
              "0  A reunion that was supposed to spell the arriv...          White Fox   \n",
              "1  Kazuya Kinoshita is a 20-year-old college stud...  TMS Entertainment   \n",
              "2  The \"God of High School\" tournament has begun,...              MAPPA   \n",
              "3  In the distant past, a war between humans and ...       SILVER LINK.   \n",
              "4  After his confrontation in the Nether with his...   David Production   \n",
              "\n",
              "           Year  Rating  \n",
              "0   Jul 8, 2020    8.37  \n",
              "1  Jul 11, 2020     NaN  \n",
              "2   Jul 6, 2020     NaN  \n",
              "3   Jul 4, 2020     NaN  \n",
              "4   Jul 4, 2020     NaN  "
            ],
            "text/html": [
              "\n",
              "  <div id=\"df-ade7812d-4412-4576-a56f-bf0c95b2ceaf\">\n",
              "    <div class=\"colab-df-container\">\n",
              "      <div>\n",
              "<style scoped>\n",
              "    .dataframe tbody tr th:only-of-type {\n",
              "        vertical-align: middle;\n",
              "    }\n",
              "\n",
              "    .dataframe tbody tr th {\n",
              "        vertical-align: top;\n",
              "    }\n",
              "\n",
              "    .dataframe thead th {\n",
              "        text-align: right;\n",
              "    }\n",
              "</style>\n",
              "<table border=\"1\" class=\"dataframe\">\n",
              "  <thead>\n",
              "    <tr style=\"text-align: right;\">\n",
              "      <th></th>\n",
              "      <th>Unnamed: 0</th>\n",
              "      <th>Anime</th>\n",
              "      <th>Genre</th>\n",
              "      <th>Description</th>\n",
              "      <th>Studio</th>\n",
              "      <th>Year</th>\n",
              "      <th>Rating</th>\n",
              "    </tr>\n",
              "  </thead>\n",
              "  <tbody>\n",
              "    <tr>\n",
              "      <th>0</th>\n",
              "      <td>0</td>\n",
              "      <td>Re:Zero kara Hajimeru Isekai Seikatsu 2nd Season</td>\n",
              "      <td>['Drama', 'Fantasy', 'Suspense']</td>\n",
              "      <td>A reunion that was supposed to spell the arriv...</td>\n",
              "      <td>White Fox</td>\n",
              "      <td>Jul 8, 2020</td>\n",
              "      <td>8.37</td>\n",
              "    </tr>\n",
              "    <tr>\n",
              "      <th>1</th>\n",
              "      <td>1</td>\n",
              "      <td>Kanojo, Okarishimasu</td>\n",
              "      <td>['Comedy', 'Romance']</td>\n",
              "      <td>Kazuya Kinoshita is a 20-year-old college stud...</td>\n",
              "      <td>TMS Entertainment</td>\n",
              "      <td>Jul 11, 2020</td>\n",
              "      <td>NaN</td>\n",
              "    </tr>\n",
              "    <tr>\n",
              "      <th>2</th>\n",
              "      <td>2</td>\n",
              "      <td>The God of High School</td>\n",
              "      <td>['Action', 'Fantasy', 'Sci-Fi', 'Supernatural']</td>\n",
              "      <td>The \"God of High School\" tournament has begun,...</td>\n",
              "      <td>MAPPA</td>\n",
              "      <td>Jul 6, 2020</td>\n",
              "      <td>NaN</td>\n",
              "    </tr>\n",
              "    <tr>\n",
              "      <th>3</th>\n",
              "      <td>3</td>\n",
              "      <td>Maou Gakuin no Futekigousha: Shijou Saikyou no...</td>\n",
              "      <td>['Action', 'Fantasy']</td>\n",
              "      <td>In the distant past, a war between humans and ...</td>\n",
              "      <td>SILVER LINK.</td>\n",
              "      <td>Jul 4, 2020</td>\n",
              "      <td>NaN</td>\n",
              "    </tr>\n",
              "    <tr>\n",
              "      <th>4</th>\n",
              "      <td>4</td>\n",
              "      <td>Enen no Shouboutai: Ni no Shou</td>\n",
              "      <td>['Action', 'Supernatural']</td>\n",
              "      <td>After his confrontation in the Nether with his...</td>\n",
              "      <td>David Production</td>\n",
              "      <td>Jul 4, 2020</td>\n",
              "      <td>NaN</td>\n",
              "    </tr>\n",
              "  </tbody>\n",
              "</table>\n",
              "</div>\n",
              "      <button class=\"colab-df-convert\" onclick=\"convertToInteractive('df-ade7812d-4412-4576-a56f-bf0c95b2ceaf')\"\n",
              "              title=\"Convert this dataframe to an interactive table.\"\n",
              "              style=\"display:none;\">\n",
              "        \n",
              "  <svg xmlns=\"http://www.w3.org/2000/svg\" height=\"24px\"viewBox=\"0 0 24 24\"\n",
              "       width=\"24px\">\n",
              "    <path d=\"M0 0h24v24H0V0z\" fill=\"none\"/>\n",
              "    <path d=\"M18.56 5.44l.94 2.06.94-2.06 2.06-.94-2.06-.94-.94-2.06-.94 2.06-2.06.94zm-11 1L8.5 8.5l.94-2.06 2.06-.94-2.06-.94L8.5 2.5l-.94 2.06-2.06.94zm10 10l.94 2.06.94-2.06 2.06-.94-2.06-.94-.94-2.06-.94 2.06-2.06.94z\"/><path d=\"M17.41 7.96l-1.37-1.37c-.4-.4-.92-.59-1.43-.59-.52 0-1.04.2-1.43.59L10.3 9.45l-7.72 7.72c-.78.78-.78 2.05 0 2.83L4 21.41c.39.39.9.59 1.41.59.51 0 1.02-.2 1.41-.59l7.78-7.78 2.81-2.81c.8-.78.8-2.07 0-2.86zM5.41 20L4 18.59l7.72-7.72 1.47 1.35L5.41 20z\"/>\n",
              "  </svg>\n",
              "      </button>\n",
              "      \n",
              "  <style>\n",
              "    .colab-df-container {\n",
              "      display:flex;\n",
              "      flex-wrap:wrap;\n",
              "      gap: 12px;\n",
              "    }\n",
              "\n",
              "    .colab-df-convert {\n",
              "      background-color: #E8F0FE;\n",
              "      border: none;\n",
              "      border-radius: 50%;\n",
              "      cursor: pointer;\n",
              "      display: none;\n",
              "      fill: #1967D2;\n",
              "      height: 32px;\n",
              "      padding: 0 0 0 0;\n",
              "      width: 32px;\n",
              "    }\n",
              "\n",
              "    .colab-df-convert:hover {\n",
              "      background-color: #E2EBFA;\n",
              "      box-shadow: 0px 1px 2px rgba(60, 64, 67, 0.3), 0px 1px 3px 1px rgba(60, 64, 67, 0.15);\n",
              "      fill: #174EA6;\n",
              "    }\n",
              "\n",
              "    [theme=dark] .colab-df-convert {\n",
              "      background-color: #3B4455;\n",
              "      fill: #D2E3FC;\n",
              "    }\n",
              "\n",
              "    [theme=dark] .colab-df-convert:hover {\n",
              "      background-color: #434B5C;\n",
              "      box-shadow: 0px 1px 3px 1px rgba(0, 0, 0, 0.15);\n",
              "      filter: drop-shadow(0px 1px 2px rgba(0, 0, 0, 0.3));\n",
              "      fill: #FFFFFF;\n",
              "    }\n",
              "  </style>\n",
              "\n",
              "      <script>\n",
              "        const buttonEl =\n",
              "          document.querySelector('#df-ade7812d-4412-4576-a56f-bf0c95b2ceaf button.colab-df-convert');\n",
              "        buttonEl.style.display =\n",
              "          google.colab.kernel.accessAllowed ? 'block' : 'none';\n",
              "\n",
              "        async function convertToInteractive(key) {\n",
              "          const element = document.querySelector('#df-ade7812d-4412-4576-a56f-bf0c95b2ceaf');\n",
              "          const dataTable =\n",
              "            await google.colab.kernel.invokeFunction('convertToInteractive',\n",
              "                                                     [key], {});\n",
              "          if (!dataTable) return;\n",
              "\n",
              "          const docLinkHtml = 'Like what you see? Visit the ' +\n",
              "            '<a target=\"_blank\" href=https://colab.research.google.com/notebooks/data_table.ipynb>data table notebook</a>'\n",
              "            + ' to learn more about interactive tables.';\n",
              "          element.innerHTML = '';\n",
              "          dataTable['output_type'] = 'display_data';\n",
              "          await google.colab.output.renderOutput(dataTable, element);\n",
              "          const docLink = document.createElement('div');\n",
              "          docLink.innerHTML = docLinkHtml;\n",
              "          element.appendChild(docLink);\n",
              "        }\n",
              "      </script>\n",
              "    </div>\n",
              "  </div>\n",
              "  "
            ]
          },
          "metadata": {},
          "execution_count": 13
        }
      ]
    },
    {
      "cell_type": "code",
      "source": [
        "# Check data types and nulls\n",
        "df.info()"
      ],
      "metadata": {
        "colab": {
          "base_uri": "https://localhost:8080/"
        },
        "id": "EAIVKuvxDMci",
        "outputId": "d21b95bf-ebb4-483f-8299-7ea3b56f71a3"
      },
      "execution_count": null,
      "outputs": [
        {
          "output_type": "stream",
          "name": "stdout",
          "text": [
            "<class 'pandas.core.frame.DataFrame'>\n",
            "RangeIndex: 1005 entries, 0 to 1004\n",
            "Data columns (total 7 columns):\n",
            " #   Column       Non-Null Count  Dtype  \n",
            "---  ------       --------------  -----  \n",
            " 0   Unnamed: 0   1005 non-null   int64  \n",
            " 1   Anime        1005 non-null   object \n",
            " 2   Genre        1005 non-null   object \n",
            " 3   Description  1005 non-null   object \n",
            " 4   Studio       977 non-null    object \n",
            " 5   Year         1005 non-null   object \n",
            " 6   Rating       97 non-null     float64\n",
            "dtypes: float64(1), int64(1), object(5)\n",
            "memory usage: 55.1+ KB\n"
          ]
        }
      ]
    },
    {
      "cell_type": "code",
      "source": [
        "# Inspect the distribution of the rating column\n",
        "plt.hist(df.Rating);"
      ],
      "metadata": {
        "colab": {
          "base_uri": "https://localhost:8080/",
          "height": 268
        },
        "id": "oW0QrvlCDlvH",
        "outputId": "afca65c9-dd2d-49e0-9526-6f695a119f4b"
      },
      "execution_count": null,
      "outputs": [
        {
          "output_type": "display_data",
          "data": {
            "text/plain": [
              "<Figure size 432x288 with 1 Axes>"
            ],
            "image/png": "[encoded data removed]"
          },
          "metadata": {
            "needs_background": "light"
          }
        }
      ]
    },
    {
      "cell_type": "code",
      "source": [
        "df.Studio.value_counts()"
      ],
      "metadata": {
        "colab": {
          "base_uri": "https://localhost:8080/"
        },
        "id": "2JjnYJDXEV99",
        "outputId": "cc270362-f7db-4585-902a-d070d38ed3f1"
      },
      "execution_count": null,
      "outputs": [
        {
          "output_type": "execute_result",
          "data": {
            "text/plain": [
              "A-1 Pictures         38\n",
              "J.C.Staff            35\n",
              "Studio Deen          31\n",
              "OLM                  29\n",
              "TMS Entertainment    27\n",
              "                     ..\n",
              "Maho Film             1\n",
              "Animation Planet      1\n",
              "Shimogumi             1\n",
              "Studio VOLN           1\n",
              "Gainax                1\n",
              "Name: Studio, Length: 209, dtype: int64"
            ]
          },
          "metadata": {},
          "execution_count": 16
        }
      ]
    },
    {
      "cell_type": "code",
      "source": [
        "df.Genre.value_counts()[:15]"
      ],
      "metadata": {
        "colab": {
          "base_uri": "https://localhost:8080/"
        },
        "id": "dbmmOCpNFBx0",
        "outputId": "6408d412-fc47-457a-943f-e0be5d26e898"
      },
      "execution_count": null,
      "outputs": [
        {
          "output_type": "execute_result",
          "data": {
            "text/plain": [
              "Comedy                                107\n",
              "['Comedy', 'Slice of Life']            96\n",
              "Slice of Life                          43\n",
              "[]                                     36\n",
              "['Action', 'Adventure', 'Fantasy']     31\n",
              "Sports                                 30\n",
              "['Action', 'Sci-Fi']                   28\n",
              "Action                                 27\n",
              "['Action', 'Fantasy']                  21\n",
              "['Comedy', 'Romance']                  20\n",
              "['Comedy', 'Supernatural']             17\n",
              "['Comedy', 'Fantasy']                  14\n",
              "Drama                                  13\n",
              "Fantasy                                12\n",
              "['Adventure', 'Fantasy']               11\n",
              "Name: Genre, dtype: int64"
            ]
          },
          "metadata": {},
          "execution_count": 17
        }
      ]
    },
    {
      "cell_type": "markdown",
      "source": [
        "Wrangle Data"
      ],
      "metadata": {
        "id": "4nT-_IqbFlkF"
      }
    },
    {
      "cell_type": "code",
      "source": [
        "# Drop unwanted column\n",
        "df = df.drop('Unnamed: 0', axis = 1)\n",
        "df.head()"
      ],
      "metadata": {
        "colab": {
          "base_uri": "https://localhost:8080/",
          "height": 299
        },
        "id": "Z5gDnt0KFnSE",
        "outputId": "72533349-97aa-4efa-fbe3-7ad0a43fa8e7"
      },
      "execution_count": null,
      "outputs": [
        {
          "output_type": "execute_result",
          "data": {
            "text/plain": [
              "                                               Anime  \\\n",
              "0   Re:Zero kara Hajimeru Isekai Seikatsu 2nd Season   \n",
              "1                               Kanojo, Okarishimasu   \n",
              "2                             The God of High School   \n",
              "3  Maou Gakuin no Futekigousha: Shijou Saikyou no...   \n",
              "4                     Enen no Shouboutai: Ni no Shou   \n",
              "\n",
              "                                             Genre  \\\n",
              "0                 ['Drama', 'Fantasy', 'Suspense']   \n",
              "1                            ['Comedy', 'Romance']   \n",
              "2  ['Action', 'Fantasy', 'Sci-Fi', 'Supernatural']   \n",
              "3                            ['Action', 'Fantasy']   \n",
              "4                       ['Action', 'Supernatural']   \n",
              "\n",
              "                                         Description             Studio  \\\n",
              "0  A reunion that was supposed to spell the arriv...          White Fox   \n",
              "1  Kazuya Kinoshita is a 20-year-old college stud...  TMS Entertainment   \n",
              "2  The \"God of High School\" tournament has begun,...              MAPPA   \n",
              "3  In the distant past, a war between humans and ...       SILVER LINK.   \n",
              "4  After his confrontation in the Nether with his...   David Production   \n",
              "\n",
              "           Year  Rating  \n",
              "0   Jul 8, 2020    8.37  \n",
              "1  Jul 11, 2020     NaN  \n",
              "2   Jul 6, 2020     NaN  \n",
              "3   Jul 4, 2020     NaN  \n",
              "4   Jul 4, 2020     NaN  "
            ],
            "text/html": [
              "\n",
              "  <div id=\"df-fbe72696-979e-4885-a2b9-f3a05f5589a1\">\n",
              "    <div class=\"colab-df-container\">\n",
              "      <div>\n",
              "<style scoped>\n",
              "    .dataframe tbody tr th:only-of-type {\n",
              "        vertical-align: middle;\n",
              "    }\n",
              "\n",
              "    .dataframe tbody tr th {\n",
              "        vertical-align: top;\n",
              "    }\n",
              "\n",
              "    .dataframe thead th {\n",
              "        text-align: right;\n",
              "    }\n",
              "</style>\n",
              "<table border=\"1\" class=\"dataframe\">\n",
              "  <thead>\n",
              "    <tr style=\"text-align: right;\">\n",
              "      <th></th>\n",
              "      <th>Anime</th>\n",
              "      <th>Genre</th>\n",
              "      <th>Description</th>\n",
              "      <th>Studio</th>\n",
              "      <th>Year</th>\n",
              "      <th>Rating</th>\n",
              "    </tr>\n",
              "  </thead>\n",
              "  <tbody>\n",
              "    <tr>\n",
              "      <th>0</th>\n",
              "      <td>Re:Zero kara Hajimeru Isekai Seikatsu 2nd Season</td>\n",
              "      <td>['Drama', 'Fantasy', 'Suspense']</td>\n",
              "      <td>A reunion that was supposed to spell the arriv...</td>\n",
              "      <td>White Fox</td>\n",
              "      <td>Jul 8, 2020</td>\n",
              "      <td>8.37</td>\n",
              "    </tr>\n",
              "    <tr>\n",
              "      <th>1</th>\n",
              "      <td>Kanojo, Okarishimasu</td>\n",
              "      <td>['Comedy', 'Romance']</td>\n",
              "      <td>Kazuya Kinoshita is a 20-year-old college stud...</td>\n",
              "      <td>TMS Entertainment</td>\n",
              "      <td>Jul 11, 2020</td>\n",
              "      <td>NaN</td>\n",
              "    </tr>\n",
              "    <tr>\n",
              "      <th>2</th>\n",
              "      <td>The God of High School</td>\n",
              "      <td>['Action', 'Fantasy', 'Sci-Fi', 'Supernatural']</td>\n",
              "      <td>The \"God of High School\" tournament has begun,...</td>\n",
              "      <td>MAPPA</td>\n",
              "      <td>Jul 6, 2020</td>\n",
              "      <td>NaN</td>\n",
              "    </tr>\n",
              "    <tr>\n",
              "      <th>3</th>\n",
              "      <td>Maou Gakuin no Futekigousha: Shijou Saikyou no...</td>\n",
              "      <td>['Action', 'Fantasy']</td>\n",
              "      <td>In the distant past, a war between humans and ...</td>\n",
              "      <td>SILVER LINK.</td>\n",
              "      <td>Jul 4, 2020</td>\n",
              "      <td>NaN</td>\n",
              "    </tr>\n",
              "    <tr>\n",
              "      <th>4</th>\n",
              "      <td>Enen no Shouboutai: Ni no Shou</td>\n",
              "      <td>['Action', 'Supernatural']</td>\n",
              "      <td>After his confrontation in the Nether with his...</td>\n",
              "      <td>David Production</td>\n",
              "      <td>Jul 4, 2020</td>\n",
              "      <td>NaN</td>\n",
              "    </tr>\n",
              "  </tbody>\n",
              "</table>\n",
              "</div>\n",
              "      <button class=\"colab-df-convert\" onclick=\"convertToInteractive('df-fbe72696-979e-4885-a2b9-f3a05f5589a1')\"\n",
              "              title=\"Convert this dataframe to an interactive table.\"\n",
              "              style=\"display:none;\">\n",
              "        \n",
              "  <svg xmlns=\"http://www.w3.org/2000/svg\" height=\"24px\"viewBox=\"0 0 24 24\"\n",
              "       width=\"24px\">\n",
              "    <path d=\"M0 0h24v24H0V0z\" fill=\"none\"/>\n",
              "    <path d=\"M18.56 5.44l.94 2.06.94-2.06 2.06-.94-2.06-.94-.94-2.06-.94 2.06-2.06.94zm-11 1L8.5 8.5l.94-2.06 2.06-.94-2.06-.94L8.5 2.5l-.94 2.06-2.06.94zm10 10l.94 2.06.94-2.06 2.06-.94-2.06-.94-.94-2.06-.94 2.06-2.06.94z\"/><path d=\"M17.41 7.96l-1.37-1.37c-.4-.4-.92-.59-1.43-.59-.52 0-1.04.2-1.43.59L10.3 9.45l-7.72 7.72c-.78.78-.78 2.05 0 2.83L4 21.41c.39.39.9.59 1.41.59.51 0 1.02-.2 1.41-.59l7.78-7.78 2.81-2.81c.8-.78.8-2.07 0-2.86zM5.41 20L4 18.59l7.72-7.72 1.47 1.35L5.41 20z\"/>\n",
              "  </svg>\n",
              "      </button>\n",
              "      \n",
              "  <style>\n",
              "    .colab-df-container {\n",
              "      display:flex;\n",
              "      flex-wrap:wrap;\n",
              "      gap: 12px;\n",
              "    }\n",
              "\n",
              "    .colab-df-convert {\n",
              "      background-color: #E8F0FE;\n",
              "      border: none;\n",
              "      border-radius: 50%;\n",
              "      cursor: pointer;\n",
              "      display: none;\n",
              "      fill: #1967D2;\n",
              "      height: 32px;\n",
              "      padding: 0 0 0 0;\n",
              "      width: 32px;\n",
              "    }\n",
              "\n",
              "    .colab-df-convert:hover {\n",
              "      background-color: #E2EBFA;\n",
              "      box-shadow: 0px 1px 2px rgba(60, 64, 67, 0.3), 0px 1px 3px 1px rgba(60, 64, 67, 0.15);\n",
              "      fill: #174EA6;\n",
              "    }\n",
              "\n",
              "    [theme=dark] .colab-df-convert {\n",
              "      background-color: #3B4455;\n",
              "      fill: #D2E3FC;\n",
              "    }\n",
              "\n",
              "    [theme=dark] .colab-df-convert:hover {\n",
              "      background-color: #434B5C;\n",
              "      box-shadow: 0px 1px 3px 1px rgba(0, 0, 0, 0.15);\n",
              "      filter: drop-shadow(0px 1px 2px rgba(0, 0, 0, 0.3));\n",
              "      fill: #FFFFFF;\n",
              "    }\n",
              "  </style>\n",
              "\n",
              "      <script>\n",
              "        const buttonEl =\n",
              "          document.querySelector('#df-fbe72696-979e-4885-a2b9-f3a05f5589a1 button.colab-df-convert');\n",
              "        buttonEl.style.display =\n",
              "          google.colab.kernel.accessAllowed ? 'block' : 'none';\n",
              "\n",
              "        async function convertToInteractive(key) {\n",
              "          const element = document.querySelector('#df-fbe72696-979e-4885-a2b9-f3a05f5589a1');\n",
              "          const dataTable =\n",
              "            await google.colab.kernel.invokeFunction('convertToInteractive',\n",
              "                                                     [key], {});\n",
              "          if (!dataTable) return;\n",
              "\n",
              "          const docLinkHtml = 'Like what you see? Visit the ' +\n",
              "            '<a target=\"_blank\" href=https://colab.research.google.com/notebooks/data_table.ipynb>data table notebook</a>'\n",
              "            + ' to learn more about interactive tables.';\n",
              "          element.innerHTML = '';\n",
              "          dataTable['output_type'] = 'display_data';\n",
              "          await google.colab.output.renderOutput(dataTable, element);\n",
              "          const docLink = document.createElement('div');\n",
              "          docLink.innerHTML = docLinkHtml;\n",
              "          element.appendChild(docLink);\n",
              "        }\n",
              "      </script>\n",
              "    </div>\n",
              "  </div>\n",
              "  "
            ]
          },
          "metadata": {},
          "execution_count": 18
        }
      ]
    },
    {
      "cell_type": "code",
      "source": [
        "# Convert Year column from Object to Datetime Format\n",
        "df['Year'] = pd.to_datetime(df['Year'])\n",
        "df.info()"
      ],
      "metadata": {
        "colab": {
          "base_uri": "https://localhost:8080/"
        },
        "id": "kqcwl0zzFz2f",
        "outputId": "54b518b6-2f9c-4949-cf23-186c6c3f24da"
      },
      "execution_count": null,
      "outputs": [
        {
          "output_type": "stream",
          "name": "stdout",
          "text": [
            "<class 'pandas.core.frame.DataFrame'>\n",
            "RangeIndex: 1005 entries, 0 to 1004\n",
            "Data columns (total 6 columns):\n",
            " #   Column       Non-Null Count  Dtype         \n",
            "---  ------       --------------  -----         \n",
            " 0   Anime        1005 non-null   object        \n",
            " 1   Genre        1005 non-null   object        \n",
            " 2   Description  1005 non-null   object        \n",
            " 3   Studio       977 non-null    object        \n",
            " 4   Year         1005 non-null   datetime64[ns]\n",
            " 5   Rating       97 non-null     float64       \n",
            "dtypes: datetime64[ns](1), float64(1), object(4)\n",
            "memory usage: 47.2+ KB\n"
          ]
        }
      ]
    },
    {
      "cell_type": "code",
      "source": [
        "df.Year.head()"
      ],
      "metadata": {
        "colab": {
          "base_uri": "https://localhost:8080/"
        },
        "id": "qaQI8Wz9G9Q_",
        "outputId": "de72b190-e998-49f1-93cf-65ef51cc3c6b"
      },
      "execution_count": null,
      "outputs": [
        {
          "output_type": "execute_result",
          "data": {
            "text/plain": [
              "0   2020-07-08\n",
              "1   2020-07-11\n",
              "2   2020-07-06\n",
              "3   2020-07-04\n",
              "4   2020-07-04\n",
              "Name: Year, dtype: datetime64[ns]"
            ]
          },
          "metadata": {},
          "execution_count": 20
        }
      ]
    },
    {
      "cell_type": "code",
      "source": [
        "# Replace empty list strings with NaN\n",
        "df['Genre'] = df['Genre'].replace('[]', np.nan) \n",
        "df[df['Genre'] == '[]']"
      ],
      "metadata": {
        "colab": {
          "base_uri": "https://localhost:8080/",
          "height": 49
        },
        "id": "w-KtYV2lHb2G",
        "outputId": "76029733-8250-46d6-8dfe-959ae381284a"
      },
      "execution_count": null,
      "outputs": [
        {
          "output_type": "execute_result",
          "data": {
            "text/plain": [
              "Empty DataFrame\n",
              "Columns: [Anime, Genre, Description, Studio, Year, Rating]\n",
              "Index: []"
            ],
            "text/html": [
              "\n",
              "  <div id=\"df-bf30b73d-d655-4a67-ae94-b03c37bcf93a\">\n",
              "    <div class=\"colab-df-container\">\n",
              "      <div>\n",
              "<style scoped>\n",
              "    .dataframe tbody tr th:only-of-type {\n",
              "        vertical-align: middle;\n",
              "    }\n",
              "\n",
              "    .dataframe tbody tr th {\n",
              "        vertical-align: top;\n",
              "    }\n",
              "\n",
              "    .dataframe thead th {\n",
              "        text-align: right;\n",
              "    }\n",
              "</style>\n",
              "<table border=\"1\" class=\"dataframe\">\n",
              "  <thead>\n",
              "    <tr style=\"text-align: right;\">\n",
              "      <th></th>\n",
              "      <th>Anime</th>\n",
              "      <th>Genre</th>\n",
              "      <th>Description</th>\n",
              "      <th>Studio</th>\n",
              "      <th>Year</th>\n",
              "      <th>Rating</th>\n",
              "    </tr>\n",
              "  </thead>\n",
              "  <tbody>\n",
              "  </tbody>\n",
              "</table>\n",
              "</div>\n",
              "      <button class=\"colab-df-convert\" onclick=\"convertToInteractive('df-bf30b73d-d655-4a67-ae94-b03c37bcf93a')\"\n",
              "              title=\"Convert this dataframe to an interactive table.\"\n",
              "              style=\"display:none;\">\n",
              "        \n",
              "  <svg xmlns=\"http://www.w3.org/2000/svg\" height=\"24px\"viewBox=\"0 0 24 24\"\n",
              "       width=\"24px\">\n",
              "    <path d=\"M0 0h24v24H0V0z\" fill=\"none\"/>\n",
              "    <path d=\"M18.56 5.44l.94 2.06.94-2.06 2.06-.94-2.06-.94-.94-2.06-.94 2.06-2.06.94zm-11 1L8.5 8.5l.94-2.06 2.06-.94-2.06-.94L8.5 2.5l-.94 2.06-2.06.94zm10 10l.94 2.06.94-2.06 2.06-.94-2.06-.94-.94-2.06-.94 2.06-2.06.94z\"/><path d=\"M17.41 7.96l-1.37-1.37c-.4-.4-.92-.59-1.43-.59-.52 0-1.04.2-1.43.59L10.3 9.45l-7.72 7.72c-.78.78-.78 2.05 0 2.83L4 21.41c.39.39.9.59 1.41.59.51 0 1.02-.2 1.41-.59l7.78-7.78 2.81-2.81c.8-.78.8-2.07 0-2.86zM5.41 20L4 18.59l7.72-7.72 1.47 1.35L5.41 20z\"/>\n",
              "  </svg>\n",
              "      </button>\n",
              "      \n",
              "  <style>\n",
              "    .colab-df-container {\n",
              "      display:flex;\n",
              "      flex-wrap:wrap;\n",
              "      gap: 12px;\n",
              "    }\n",
              "\n",
              "    .colab-df-convert {\n",
              "      background-color: #E8F0FE;\n",
              "      border: none;\n",
              "      border-radius: 50%;\n",
              "      cursor: pointer;\n",
              "      display: none;\n",
              "      fill: #1967D2;\n",
              "      height: 32px;\n",
              "      padding: 0 0 0 0;\n",
              "      width: 32px;\n",
              "    }\n",
              "\n",
              "    .colab-df-convert:hover {\n",
              "      background-color: #E2EBFA;\n",
              "      box-shadow: 0px 1px 2px rgba(60, 64, 67, 0.3), 0px 1px 3px 1px rgba(60, 64, 67, 0.15);\n",
              "      fill: #174EA6;\n",
              "    }\n",
              "\n",
              "    [theme=dark] .colab-df-convert {\n",
              "      background-color: #3B4455;\n",
              "      fill: #D2E3FC;\n",
              "    }\n",
              "\n",
              "    [theme=dark] .colab-df-convert:hover {\n",
              "      background-color: #434B5C;\n",
              "      box-shadow: 0px 1px 3px 1px rgba(0, 0, 0, 0.15);\n",
              "      filter: drop-shadow(0px 1px 2px rgba(0, 0, 0, 0.3));\n",
              "      fill: #FFFFFF;\n",
              "    }\n",
              "  </style>\n",
              "\n",
              "      <script>\n",
              "        const buttonEl =\n",
              "          document.querySelector('#df-bf30b73d-d655-4a67-ae94-b03c37bcf93a button.colab-df-convert');\n",
              "        buttonEl.style.display =\n",
              "          google.colab.kernel.accessAllowed ? 'block' : 'none';\n",
              "\n",
              "        async function convertToInteractive(key) {\n",
              "          const element = document.querySelector('#df-bf30b73d-d655-4a67-ae94-b03c37bcf93a');\n",
              "          const dataTable =\n",
              "            await google.colab.kernel.invokeFunction('convertToInteractive',\n",
              "                                                     [key], {});\n",
              "          if (!dataTable) return;\n",
              "\n",
              "          const docLinkHtml = 'Like what you see? Visit the ' +\n",
              "            '<a target=\"_blank\" href=https://colab.research.google.com/notebooks/data_table.ipynb>data table notebook</a>'\n",
              "            + ' to learn more about interactive tables.';\n",
              "          element.innerHTML = '';\n",
              "          dataTable['output_type'] = 'display_data';\n",
              "          await google.colab.output.renderOutput(dataTable, element);\n",
              "          const docLink = document.createElement('div');\n",
              "          docLink.innerHTML = docLinkHtml;\n",
              "          element.appendChild(docLink);\n",
              "        }\n",
              "      </script>\n",
              "    </div>\n",
              "  </div>\n",
              "  "
            ]
          },
          "metadata": {},
          "execution_count": 21
        }
      ]
    },
    {
      "cell_type": "code",
      "source": [
        "def season_func(year):\n",
        "  month = int(datetime.strftime(year, '%m'))\n",
        "  if month in [12, 1, 2]:\n",
        "    return \"Winter\"\n",
        "  elif month in [3,4,5]:\n",
        "    return 'Spring'\n",
        "  elif month in [6,7,8]:\n",
        "    return 'Summer'\n",
        "  return 'Autumn'\n",
        "\n",
        "df['Season'] = df.Year.apply(season_func)\n",
        "df.head()"
      ],
      "metadata": {
        "colab": {
          "base_uri": "https://localhost:8080/",
          "height": 333
        },
        "id": "X3_XpHVmHiCx",
        "outputId": "3cf52619-d3c9-4793-8e23-6789653ffd3e"
      },
      "execution_count": null,
      "outputs": [
        {
          "output_type": "execute_result",
          "data": {
            "text/plain": [
              "                                               Anime  \\\n",
              "0   Re:Zero kara Hajimeru Isekai Seikatsu 2nd Season   \n",
              "1                               Kanojo, Okarishimasu   \n",
              "2                             The God of High School   \n",
              "3  Maou Gakuin no Futekigousha: Shijou Saikyou no...   \n",
              "4                     Enen no Shouboutai: Ni no Shou   \n",
              "\n",
              "                                             Genre  \\\n",
              "0                 ['Drama', 'Fantasy', 'Suspense']   \n",
              "1                            ['Comedy', 'Romance']   \n",
              "2  ['Action', 'Fantasy', 'Sci-Fi', 'Supernatural']   \n",
              "3                            ['Action', 'Fantasy']   \n",
              "4                       ['Action', 'Supernatural']   \n",
              "\n",
              "                                         Description             Studio  \\\n",
              "0  A reunion that was supposed to spell the arriv...          White Fox   \n",
              "1  Kazuya Kinoshita is a 20-year-old college stud...  TMS Entertainment   \n",
              "2  The \"God of High School\" tournament has begun,...              MAPPA   \n",
              "3  In the distant past, a war between humans and ...       SILVER LINK.   \n",
              "4  After his confrontation in the Nether with his...   David Production   \n",
              "\n",
              "        Year  Rating  Season  \n",
              "0 2020-07-08    8.37  Summer  \n",
              "1 2020-07-11     NaN  Summer  \n",
              "2 2020-07-06     NaN  Summer  \n",
              "3 2020-07-04     NaN  Summer  \n",
              "4 2020-07-04     NaN  Summer  "
            ],
            "text/html": [
              "\n",
              "  <div id=\"df-ba5dcadb-f9b1-4313-9573-fbda03681cc1\">\n",
              "    <div class=\"colab-df-container\">\n",
              "      <div>\n",
              "<style scoped>\n",
              "    .dataframe tbody tr th:only-of-type {\n",
              "        vertical-align: middle;\n",
              "    }\n",
              "\n",
              "    .dataframe tbody tr th {\n",
              "        vertical-align: top;\n",
              "    }\n",
              "\n",
              "    .dataframe thead th {\n",
              "        text-align: right;\n",
              "    }\n",
              "</style>\n",
              "<table border=\"1\" class=\"dataframe\">\n",
              "  <thead>\n",
              "    <tr style=\"text-align: right;\">\n",
              "      <th></th>\n",
              "      <th>Anime</th>\n",
              "      <th>Genre</th>\n",
              "      <th>Description</th>\n",
              "      <th>Studio</th>\n",
              "      <th>Year</th>\n",
              "      <th>Rating</th>\n",
              "      <th>Season</th>\n",
              "    </tr>\n",
              "  </thead>\n",
              "  <tbody>\n",
              "    <tr>\n",
              "      <th>0</th>\n",
              "      <td>Re:Zero kara Hajimeru Isekai Seikatsu 2nd Season</td>\n",
              "      <td>['Drama', 'Fantasy', 'Suspense']</td>\n",
              "      <td>A reunion that was supposed to spell the arriv...</td>\n",
              "      <td>White Fox</td>\n",
              "      <td>2020-07-08</td>\n",
              "      <td>8.37</td>\n",
              "      <td>Summer</td>\n",
              "    </tr>\n",
              "    <tr>\n",
              "      <th>1</th>\n",
              "      <td>Kanojo, Okarishimasu</td>\n",
              "      <td>['Comedy', 'Romance']</td>\n",
              "      <td>Kazuya Kinoshita is a 20-year-old college stud...</td>\n",
              "      <td>TMS Entertainment</td>\n",
              "      <td>2020-07-11</td>\n",
              "      <td>NaN</td>\n",
              "      <td>Summer</td>\n",
              "    </tr>\n",
              "    <tr>\n",
              "      <th>2</th>\n",
              "      <td>The God of High School</td>\n",
              "      <td>['Action', 'Fantasy', 'Sci-Fi', 'Supernatural']</td>\n",
              "      <td>The \"God of High School\" tournament has begun,...</td>\n",
              "      <td>MAPPA</td>\n",
              "      <td>2020-07-06</td>\n",
              "      <td>NaN</td>\n",
              "      <td>Summer</td>\n",
              "    </tr>\n",
              "    <tr>\n",
              "      <th>3</th>\n",
              "      <td>Maou Gakuin no Futekigousha: Shijou Saikyou no...</td>\n",
              "      <td>['Action', 'Fantasy']</td>\n",
              "      <td>In the distant past, a war between humans and ...</td>\n",
              "      <td>SILVER LINK.</td>\n",
              "      <td>2020-07-04</td>\n",
              "      <td>NaN</td>\n",
              "      <td>Summer</td>\n",
              "    </tr>\n",
              "    <tr>\n",
              "      <th>4</th>\n",
              "      <td>Enen no Shouboutai: Ni no Shou</td>\n",
              "      <td>['Action', 'Supernatural']</td>\n",
              "      <td>After his confrontation in the Nether with his...</td>\n",
              "      <td>David Production</td>\n",
              "      <td>2020-07-04</td>\n",
              "      <td>NaN</td>\n",
              "      <td>Summer</td>\n",
              "    </tr>\n",
              "  </tbody>\n",
              "</table>\n",
              "</div>\n",
              "      <button class=\"colab-df-convert\" onclick=\"convertToInteractive('df-ba5dcadb-f9b1-4313-9573-fbda03681cc1')\"\n",
              "              title=\"Convert this dataframe to an interactive table.\"\n",
              "              style=\"display:none;\">\n",
              "        \n",
              "  <svg xmlns=\"http://www.w3.org/2000/svg\" height=\"24px\"viewBox=\"0 0 24 24\"\n",
              "       width=\"24px\">\n",
              "    <path d=\"M0 0h24v24H0V0z\" fill=\"none\"/>\n",
              "    <path d=\"M18.56 5.44l.94 2.06.94-2.06 2.06-.94-2.06-.94-.94-2.06-.94 2.06-2.06.94zm-11 1L8.5 8.5l.94-2.06 2.06-.94-2.06-.94L8.5 2.5l-.94 2.06-2.06.94zm10 10l.94 2.06.94-2.06 2.06-.94-2.06-.94-.94-2.06-.94 2.06-2.06.94z\"/><path d=\"M17.41 7.96l-1.37-1.37c-.4-.4-.92-.59-1.43-.59-.52 0-1.04.2-1.43.59L10.3 9.45l-7.72 7.72c-.78.78-.78 2.05 0 2.83L4 21.41c.39.39.9.59 1.41.59.51 0 1.02-.2 1.41-.59l7.78-7.78 2.81-2.81c.8-.78.8-2.07 0-2.86zM5.41 20L4 18.59l7.72-7.72 1.47 1.35L5.41 20z\"/>\n",
              "  </svg>\n",
              "      </button>\n",
              "      \n",
              "  <style>\n",
              "    .colab-df-container {\n",
              "      display:flex;\n",
              "      flex-wrap:wrap;\n",
              "      gap: 12px;\n",
              "    }\n",
              "\n",
              "    .colab-df-convert {\n",
              "      background-color: #E8F0FE;\n",
              "      border: none;\n",
              "      border-radius: 50%;\n",
              "      cursor: pointer;\n",
              "      display: none;\n",
              "      fill: #1967D2;\n",
              "      height: 32px;\n",
              "      padding: 0 0 0 0;\n",
              "      width: 32px;\n",
              "    }\n",
              "\n",
              "    .colab-df-convert:hover {\n",
              "      background-color: #E2EBFA;\n",
              "      box-shadow: 0px 1px 2px rgba(60, 64, 67, 0.3), 0px 1px 3px 1px rgba(60, 64, 67, 0.15);\n",
              "      fill: #174EA6;\n",
              "    }\n",
              "\n",
              "    [theme=dark] .colab-df-convert {\n",
              "      background-color: #3B4455;\n",
              "      fill: #D2E3FC;\n",
              "    }\n",
              "\n",
              "    [theme=dark] .colab-df-convert:hover {\n",
              "      background-color: #434B5C;\n",
              "      box-shadow: 0px 1px 3px 1px rgba(0, 0, 0, 0.15);\n",
              "      filter: drop-shadow(0px 1px 2px rgba(0, 0, 0, 0.3));\n",
              "      fill: #FFFFFF;\n",
              "    }\n",
              "  </style>\n",
              "\n",
              "      <script>\n",
              "        const buttonEl =\n",
              "          document.querySelector('#df-ba5dcadb-f9b1-4313-9573-fbda03681cc1 button.colab-df-convert');\n",
              "        buttonEl.style.display =\n",
              "          google.colab.kernel.accessAllowed ? 'block' : 'none';\n",
              "\n",
              "        async function convertToInteractive(key) {\n",
              "          const element = document.querySelector('#df-ba5dcadb-f9b1-4313-9573-fbda03681cc1');\n",
              "          const dataTable =\n",
              "            await google.colab.kernel.invokeFunction('convertToInteractive',\n",
              "                                                     [key], {});\n",
              "          if (!dataTable) return;\n",
              "\n",
              "          const docLinkHtml = 'Like what you see? Visit the ' +\n",
              "            '<a target=\"_blank\" href=https://colab.research.google.com/notebooks/data_table.ipynb>data table notebook</a>'\n",
              "            + ' to learn more about interactive tables.';\n",
              "          element.innerHTML = '';\n",
              "          dataTable['output_type'] = 'display_data';\n",
              "          await google.colab.output.renderOutput(dataTable, element);\n",
              "          const docLink = document.createElement('div');\n",
              "          docLink.innerHTML = docLinkHtml;\n",
              "          element.appendChild(docLink);\n",
              "        }\n",
              "      </script>\n",
              "    </div>\n",
              "  </div>\n",
              "  "
            ]
          },
          "metadata": {},
          "execution_count": 22
        }
      ]
    },
    {
      "cell_type": "code",
      "source": [
        "df.sample(10)"
      ],
      "metadata": {
        "colab": {
          "base_uri": "https://localhost:8080/",
          "height": 573
        },
        "id": "mjzEh80CJT5j",
        "outputId": "627f8f81-a652-49bb-b400-336af9c89bff"
      },
      "execution_count": null,
      "outputs": [
        {
          "output_type": "execute_result",
          "data": {
            "text/plain": [
              "                                       Anime  \\\n",
              "723  Cardfight!! Vanguard G: GIRS Crisis-hen   \n",
              "401               Angolmois: Genkou Kassenki   \n",
              "68                                  Gleipnir   \n",
              "918                                 Gangsta.   \n",
              "94                A3! Season Spring & Summer   \n",
              "311                       Gakuen Babysitters   \n",
              "286                          Shoumetsu Toshi   \n",
              "816                        High School Fleet   \n",
              "608                Catchy-kun no Nice Catch!   \n",
              "519   Schoolgirl Strikers: Animation Channel   \n",
              "\n",
              "                                                 Genre  \\\n",
              "723                                             Action   \n",
              "401                                ['Action', 'Drama']   \n",
              "68      ['Action', 'Mystery', 'Supernatural', 'Ecchi']   \n",
              "918                                ['Action', 'Drama']   \n",
              "94                          ['Drama', 'Slice of Life']   \n",
              "311                        ['Comedy', 'Slice of Life']   \n",
              "286  ['Action', 'Adventure', 'Drama', 'Fantasy', 'M...   \n",
              "816                                             Action   \n",
              "608                                             Comedy   \n",
              "519                               ['Action', 'Sci-Fi']   \n",
              "\n",
              "                                           Description             Studio  \\\n",
              "723  The first half of the second season of Cardfig...  TMS Entertainment   \n",
              "401  The scary great king comes from the other side...                NAZ   \n",
              "68   Shuuichi Kagaya is what one would consider an ...           Pine Jam   \n",
              "918  Nicholas Brown and Worick Arcangelo, known in ...           Manglobe   \n",
              "94   Home to countless street acts and performances...         P.A. Works   \n",
              "311  After losing both parents in a fatal plane cra...       Brain's Base   \n",
              "286  One day, a city suddenly disappears. Takuya, a...           Madhouse   \n",
              "816  A hundred years after catastrophic shifts in t...     Production IMS   \n",
              "608                                 (No synopsis yet.)                DLE   \n",
              "519  It's the near future. The newly established gi...          J.C.Staff   \n",
              "\n",
              "          Year  Rating  Season  \n",
              "723 2015-10-11     NaN  Autumn  \n",
              "401 2018-07-11     NaN  Summer  \n",
              "68  2020-04-05     NaN  Spring  \n",
              "918 2015-07-02     NaN  Summer  \n",
              "94  2020-01-14     NaN  Winter  \n",
              "311 2018-01-07     NaN  Winter  \n",
              "286 2019-04-07     NaN  Spring  \n",
              "816 2016-04-10     NaN  Spring  \n",
              "608 2017-07-07     NaN  Summer  \n",
              "519 2017-01-07     NaN  Winter  "
            ],
            "text/html": [
              "\n",
              "  <div id=\"df-14d137f7-e812-4110-97af-3d3a074a77c3\">\n",
              "    <div class=\"colab-df-container\">\n",
              "      <div>\n",
              "<style scoped>\n",
              "    .dataframe tbody tr th:only-of-type {\n",
              "        vertical-align: middle;\n",
              "    }\n",
              "\n",
              "    .dataframe tbody tr th {\n",
              "        vertical-align: top;\n",
              "    }\n",
              "\n",
              "    .dataframe thead th {\n",
              "        text-align: right;\n",
              "    }\n",
              "</style>\n",
              "<table border=\"1\" class=\"dataframe\">\n",
              "  <thead>\n",
              "    <tr style=\"text-align: right;\">\n",
              "      <th></th>\n",
              "      <th>Anime</th>\n",
              "      <th>Genre</th>\n",
              "      <th>Description</th>\n",
              "      <th>Studio</th>\n",
              "      <th>Year</th>\n",
              "      <th>Rating</th>\n",
              "      <th>Season</th>\n",
              "    </tr>\n",
              "  </thead>\n",
              "  <tbody>\n",
              "    <tr>\n",
              "      <th>723</th>\n",
              "      <td>Cardfight!! Vanguard G: GIRS Crisis-hen</td>\n",
              "      <td>Action</td>\n",
              "      <td>The first half of the second season of Cardfig...</td>\n",
              "      <td>TMS Entertainment</td>\n",
              "      <td>2015-10-11</td>\n",
              "      <td>NaN</td>\n",
              "      <td>Autumn</td>\n",
              "    </tr>\n",
              "    <tr>\n",
              "      <th>401</th>\n",
              "      <td>Angolmois: Genkou Kassenki</td>\n",
              "      <td>['Action', 'Drama']</td>\n",
              "      <td>The scary great king comes from the other side...</td>\n",
              "      <td>NAZ</td>\n",
              "      <td>2018-07-11</td>\n",
              "      <td>NaN</td>\n",
              "      <td>Summer</td>\n",
              "    </tr>\n",
              "    <tr>\n",
              "      <th>68</th>\n",
              "      <td>Gleipnir</td>\n",
              "      <td>['Action', 'Mystery', 'Supernatural', 'Ecchi']</td>\n",
              "      <td>Shuuichi Kagaya is what one would consider an ...</td>\n",
              "      <td>Pine Jam</td>\n",
              "      <td>2020-04-05</td>\n",
              "      <td>NaN</td>\n",
              "      <td>Spring</td>\n",
              "    </tr>\n",
              "    <tr>\n",
              "      <th>918</th>\n",
              "      <td>Gangsta.</td>\n",
              "      <td>['Action', 'Drama']</td>\n",
              "      <td>Nicholas Brown and Worick Arcangelo, known in ...</td>\n",
              "      <td>Manglobe</td>\n",
              "      <td>2015-07-02</td>\n",
              "      <td>NaN</td>\n",
              "      <td>Summer</td>\n",
              "    </tr>\n",
              "    <tr>\n",
              "      <th>94</th>\n",
              "      <td>A3! Season Spring &amp; Summer</td>\n",
              "      <td>['Drama', 'Slice of Life']</td>\n",
              "      <td>Home to countless street acts and performances...</td>\n",
              "      <td>P.A. Works</td>\n",
              "      <td>2020-01-14</td>\n",
              "      <td>NaN</td>\n",
              "      <td>Winter</td>\n",
              "    </tr>\n",
              "    <tr>\n",
              "      <th>311</th>\n",
              "      <td>Gakuen Babysitters</td>\n",
              "      <td>['Comedy', 'Slice of Life']</td>\n",
              "      <td>After losing both parents in a fatal plane cra...</td>\n",
              "      <td>Brain's Base</td>\n",
              "      <td>2018-01-07</td>\n",
              "      <td>NaN</td>\n",
              "      <td>Winter</td>\n",
              "    </tr>\n",
              "    <tr>\n",
              "      <th>286</th>\n",
              "      <td>Shoumetsu Toshi</td>\n",
              "      <td>['Action', 'Adventure', 'Drama', 'Fantasy', 'M...</td>\n",
              "      <td>One day, a city suddenly disappears. Takuya, a...</td>\n",
              "      <td>Madhouse</td>\n",
              "      <td>2019-04-07</td>\n",
              "      <td>NaN</td>\n",
              "      <td>Spring</td>\n",
              "    </tr>\n",
              "    <tr>\n",
              "      <th>816</th>\n",
              "      <td>High School Fleet</td>\n",
              "      <td>Action</td>\n",
              "      <td>A hundred years after catastrophic shifts in t...</td>\n",
              "      <td>Production IMS</td>\n",
              "      <td>2016-04-10</td>\n",
              "      <td>NaN</td>\n",
              "      <td>Spring</td>\n",
              "    </tr>\n",
              "    <tr>\n",
              "      <th>608</th>\n",
              "      <td>Catchy-kun no Nice Catch!</td>\n",
              "      <td>Comedy</td>\n",
              "      <td>(No synopsis yet.)</td>\n",
              "      <td>DLE</td>\n",
              "      <td>2017-07-07</td>\n",
              "      <td>NaN</td>\n",
              "      <td>Summer</td>\n",
              "    </tr>\n",
              "    <tr>\n",
              "      <th>519</th>\n",
              "      <td>Schoolgirl Strikers: Animation Channel</td>\n",
              "      <td>['Action', 'Sci-Fi']</td>\n",
              "      <td>It's the near future. The newly established gi...</td>\n",
              "      <td>J.C.Staff</td>\n",
              "      <td>2017-01-07</td>\n",
              "      <td>NaN</td>\n",
              "      <td>Winter</td>\n",
              "    </tr>\n",
              "  </tbody>\n",
              "</table>\n",
              "</div>\n",
              "      <button class=\"colab-df-convert\" onclick=\"convertToInteractive('df-14d137f7-e812-4110-97af-3d3a074a77c3')\"\n",
              "              title=\"Convert this dataframe to an interactive table.\"\n",
              "              style=\"display:none;\">\n",
              "        \n",
              "  <svg xmlns=\"http://www.w3.org/2000/svg\" height=\"24px\"viewBox=\"0 0 24 24\"\n",
              "       width=\"24px\">\n",
              "    <path d=\"M0 0h24v24H0V0z\" fill=\"none\"/>\n",
              "    <path d=\"M18.56 5.44l.94 2.06.94-2.06 2.06-.94-2.06-.94-.94-2.06-.94 2.06-2.06.94zm-11 1L8.5 8.5l.94-2.06 2.06-.94-2.06-.94L8.5 2.5l-.94 2.06-2.06.94zm10 10l.94 2.06.94-2.06 2.06-.94-2.06-.94-.94-2.06-.94 2.06-2.06.94z\"/><path d=\"M17.41 7.96l-1.37-1.37c-.4-.4-.92-.59-1.43-.59-.52 0-1.04.2-1.43.59L10.3 9.45l-7.72 7.72c-.78.78-.78 2.05 0 2.83L4 21.41c.39.39.9.59 1.41.59.51 0 1.02-.2 1.41-.59l7.78-7.78 2.81-2.81c.8-.78.8-2.07 0-2.86zM5.41 20L4 18.59l7.72-7.72 1.47 1.35L5.41 20z\"/>\n",
              "  </svg>\n",
              "      </button>\n",
              "      \n",
              "  <style>\n",
              "    .colab-df-container {\n",
              "      display:flex;\n",
              "      flex-wrap:wrap;\n",
              "      gap: 12px;\n",
              "    }\n",
              "\n",
              "    .colab-df-convert {\n",
              "      background-color: #E8F0FE;\n",
              "      border: none;\n",
              "      border-radius: 50%;\n",
              "      cursor: pointer;\n",
              "      display: none;\n",
              "      fill: #1967D2;\n",
              "      height: 32px;\n",
              "      padding: 0 0 0 0;\n",
              "      width: 32px;\n",
              "    }\n",
              "\n",
              "    .colab-df-convert:hover {\n",
              "      background-color: #E2EBFA;\n",
              "      box-shadow: 0px 1px 2px rgba(60, 64, 67, 0.3), 0px 1px 3px 1px rgba(60, 64, 67, 0.15);\n",
              "      fill: #174EA6;\n",
              "    }\n",
              "\n",
              "    [theme=dark] .colab-df-convert {\n",
              "      background-color: #3B4455;\n",
              "      fill: #D2E3FC;\n",
              "    }\n",
              "\n",
              "    [theme=dark] .colab-df-convert:hover {\n",
              "      background-color: #434B5C;\n",
              "      box-shadow: 0px 1px 3px 1px rgba(0, 0, 0, 0.15);\n",
              "      filter: drop-shadow(0px 1px 2px rgba(0, 0, 0, 0.3));\n",
              "      fill: #FFFFFF;\n",
              "    }\n",
              "  </style>\n",
              "\n",
              "      <script>\n",
              "        const buttonEl =\n",
              "          document.querySelector('#df-14d137f7-e812-4110-97af-3d3a074a77c3 button.colab-df-convert');\n",
              "        buttonEl.style.display =\n",
              "          google.colab.kernel.accessAllowed ? 'block' : 'none';\n",
              "\n",
              "        async function convertToInteractive(key) {\n",
              "          const element = document.querySelector('#df-14d137f7-e812-4110-97af-3d3a074a77c3');\n",
              "          const dataTable =\n",
              "            await google.colab.kernel.invokeFunction('convertToInteractive',\n",
              "                                                     [key], {});\n",
              "          if (!dataTable) return;\n",
              "\n",
              "          const docLinkHtml = 'Like what you see? Visit the ' +\n",
              "            '<a target=\"_blank\" href=https://colab.research.google.com/notebooks/data_table.ipynb>data table notebook</a>'\n",
              "            + ' to learn more about interactive tables.';\n",
              "          element.innerHTML = '';\n",
              "          dataTable['output_type'] = 'display_data';\n",
              "          await google.colab.output.renderOutput(dataTable, element);\n",
              "          const docLink = document.createElement('div');\n",
              "          docLink.innerHTML = docLinkHtml;\n",
              "          element.appendChild(docLink);\n",
              "        }\n",
              "      </script>\n",
              "    </div>\n",
              "  </div>\n",
              "  "
            ]
          },
          "metadata": {},
          "execution_count": 23
        }
      ]
    },
    {
      "cell_type": "markdown",
      "source": [
        "Analyze and Visualize Data"
      ],
      "metadata": {
        "id": "oYqeFIm-MDcf"
      }
    },
    {
      "cell_type": "markdown",
      "source": [
        "Question 1: What are the top 10 anime best movies "
      ],
      "metadata": {
        "id": "cSRTDY6NMIGY"
      }
    },
    {
      "cell_type": "code",
      "source": [
        "# subset dataframe to contain the top ten Animes\n",
        "df1 = df[['Anime', 'Rating']].sort_values('Rating', ascending=False)[:10]"
      ],
      "metadata": {
        "id": "0vAfUaL7BDGx"
      },
      "execution_count": null,
      "outputs": []
    },
    {
      "cell_type": "code",
      "source": [
        "# Create a bar plot of movies\n",
        "def create_bar_plot(dataframe, y, width):\n",
        "  \"\"\"\n",
        "  Description: This function plots a horizontal bar chart\n",
        "  Input: Provide a pandas dataframe, the column to be plotted and its height\n",
        "  Output: Returns a plotted bar chart\n",
        "  \"\"\"\n",
        "  plt.figure(figsize=(15,10))\n",
        "  plt.barh(y=dataframe[y], width=dataframe[width])\n",
        "  plt.xlabel(\"Rating\")\n",
        "  plt.ylabel(\"Anime\")\n",
        "  plt.title('Best Rated Anime Movies')\n",
        "  plt.show()\n",
        "create_bar_plot(df1, 'Anime', 'Rating')"
      ],
      "metadata": {
        "colab": {
          "base_uri": "https://localhost:8080/",
          "height": 621
        },
        "id": "gsDFwl5XCocF",
        "outputId": "14ad85d5-a71d-4764-f7d0-d018527d8429"
      },
      "execution_count": null,
      "outputs": [
        {
          "output_type": "display_data",
          "data": {
            "text/plain": [
              "<Figure size 1080x720 with 1 Axes>"
            ],
            "image/png": "[encoded data removed]"
          },
          "metadata": {
            "needs_background": "light"
          }
        }
      ]
    },
    {
      "cell_type": "markdown",
      "source": [
        "Question 2: What are the best movies to watch for each season"
      ],
      "metadata": {
        "id": "3WumCf0KGIHx"
      }
    },
    {
      "cell_type": "markdown",
      "source": [
        "Winter"
      ],
      "metadata": {
        "id": "jk-DxXj4GQHJ"
      }
    },
    {
      "cell_type": "code",
      "source": [
        "# Subset to winter only rows\n",
        "df_winter = df[df['Season'] == 'Winter']"
      ],
      "metadata": {
        "id": "u8nyl9ELBVdz"
      },
      "execution_count": null,
      "outputs": []
    },
    {
      "cell_type": "code",
      "source": [
        "df1_winter = df_winter[['Anime', 'Rating']].sort_values('Rating', ascending=False)[:10]"
      ],
      "metadata": {
        "id": "iqrVa00ICbIK"
      },
      "execution_count": null,
      "outputs": []
    },
    {
      "cell_type": "code",
      "source": [
        "# Plot bar chart \n",
        "create_bar_plot(df1_winter, 'Anime', 'Rating')"
      ],
      "metadata": {
        "id": "NO7BmkvDD1Ec",
        "colab": {
          "base_uri": "https://localhost:8080/",
          "height": 621
        },
        "outputId": "134fb8c7-83a4-4b9a-eea5-0ce3a14fdbd9"
      },
      "execution_count": null,
      "outputs": [
        {
          "output_type": "display_data",
          "data": {
            "text/plain": [
              "<Figure size 1080x720 with 1 Axes>"
            ],
            "image/png": "[encoded data removed]"
          },
          "metadata": {
            "needs_background": "light"
          }
        }
      ]
    },
    {
      "cell_type": "markdown",
      "source": [
        "Spring"
      ],
      "metadata": {
        "id": "eLVj1q4xEkjb"
      }
    },
    {
      "cell_type": "code",
      "source": [
        "# Subset to spring only rows\n",
        "df_spring = df[df['Season'] == 'Spring']"
      ],
      "metadata": {
        "id": "epPnPomOEmhO"
      },
      "execution_count": null,
      "outputs": []
    },
    {
      "cell_type": "code",
      "source": [
        "df1_spring = df_spring[['Anime', 'Rating']].sort_values('Rating', ascending=False)[:10]"
      ],
      "metadata": {
        "id": "IYZ2m6brFA-r"
      },
      "execution_count": null,
      "outputs": []
    },
    {
      "cell_type": "code",
      "source": [
        "# Plot bar chart \n",
        "create_bar_plot(df1_spring, 'Anime', 'Rating')"
      ],
      "metadata": {
        "id": "3dtaw0kbFJ1Q",
        "colab": {
          "base_uri": "https://localhost:8080/",
          "height": 621
        },
        "outputId": "85abadb6-0f11-4040-bed3-8904ab1561e7"
      },
      "execution_count": null,
      "outputs": [
        {
          "output_type": "display_data",
          "data": {
            "text/plain": [
              "<Figure size 1080x720 with 1 Axes>"
            ],
            "image/png": "[encoded data removed]"
          },
          "metadata": {
            "needs_background": "light"
          }
        }
      ]
    },
    {
      "cell_type": "markdown",
      "source": [
        "Summer"
      ],
      "metadata": {
        "id": "UeWMWERiFYgk"
      }
    },
    {
      "cell_type": "code",
      "source": [
        "# Subset to summer only rows\n",
        "df_summer = df[df['Season'] == 'Summer']"
      ],
      "metadata": {
        "id": "cwd3paJyFhf-"
      },
      "execution_count": null,
      "outputs": []
    },
    {
      "cell_type": "code",
      "source": [
        "df1_summer = df_summer[['Anime', 'Rating']].sort_values('Rating', ascending=False)[:10]"
      ],
      "metadata": {
        "id": "-DZy5D0AFqYv"
      },
      "execution_count": null,
      "outputs": []
    },
    {
      "cell_type": "code",
      "source": [
        "# Plot bar chart \n",
        "create_bar_plot(df1_summer, 'Anime', 'Rating')"
      ],
      "metadata": {
        "id": "LM39VpTiF_Ju",
        "colab": {
          "base_uri": "https://localhost:8080/",
          "height": 621
        },
        "outputId": "04e7d315-7fad-4815-fb3b-9862bb0802ee"
      },
      "execution_count": null,
      "outputs": [
        {
          "output_type": "display_data",
          "data": {
            "text/plain": [
              "<Figure size 1080x720 with 1 Axes>"
            ],
            "image/png": "[encoded data removed]"
          },
          "metadata": {
            "needs_background": "light"
          }
        }
      ]
    },
    {
      "cell_type": "markdown",
      "source": [
        "Autumn"
      ],
      "metadata": {
        "id": "hiyuL3_AGPGl"
      }
    },
    {
      "cell_type": "code",
      "source": [
        "# Subset to summer only rows\n",
        "df_autumn = df[df['Season'] == 'Autumn']"
      ],
      "metadata": {
        "id": "VJRmUxW4GROQ"
      },
      "execution_count": null,
      "outputs": []
    },
    {
      "cell_type": "code",
      "source": [
        "df1_autumn = df_autumn[['Anime', 'Rating']].sort_values('Rating', ascending=False)[:10]"
      ],
      "metadata": {
        "id": "sJSkXsRoGZHV"
      },
      "execution_count": null,
      "outputs": []
    },
    {
      "cell_type": "code",
      "source": [
        "# Plot bar chart \n",
        "create_bar_plot(df1_autumn, 'Anime', 'Rating')"
      ],
      "metadata": {
        "id": "wpbjYh_AG0hH",
        "colab": {
          "base_uri": "https://localhost:8080/",
          "height": 621
        },
        "outputId": "3ee6309f-d2da-44e7-deba-b99f29daa996"
      },
      "execution_count": null,
      "outputs": [
        {
          "output_type": "display_data",
          "data": {
            "text/plain": [
              "<Figure size 1080x720 with 1 Axes>"
            ],
            "image/png": "[encoded data removed]"
          },
          "metadata": {
            "needs_background": "light"
          }
        }
      ]
    },
    {
      "cell_type": "markdown",
      "source": [
        "Question: What Genre do most anime watchers love?"
      ],
      "metadata": {
        "id": "D_JsqRnLIVpj"
      }
    },
    {
      "cell_type": "code",
      "source": [
        "# Sum anime ratings according to genre\n",
        "df2_genre_rating = df.groupby('Genre').agg({\"Rating\":'sum'})\n",
        "\n",
        "# Count the number of anime movies according to genre\n",
        "df2_genre_count = df.groupby('Genre').agg({\"Rating\":'count'})\n",
        "\n",
        "# Calculate the average movie rating by genre\n",
        "df2_genre = (df2_genre_rating / df2_genre_count).sort_values('Rating', ascending=False)[:5]\n",
        "df2_genre"
      ],
      "metadata": {
        "colab": {
          "base_uri": "https://localhost:8080/",
          "height": 235
        },
        "id": "Xa6xqAzoIdXH",
        "outputId": "5f8570fe-0cf3-43fa-8d3b-afea18890453"
      },
      "execution_count": null,
      "outputs": [
        {
          "output_type": "execute_result",
          "data": {
            "text/plain": [
              "                                                      Rating\n",
              "Genre                                                       \n",
              "['Comedy', 'Mystery', 'Supernatural']               8.900000\n",
              "['Action', 'Comedy', 'Sci-Fi']                      8.893333\n",
              "['Drama', 'Slice of Life']                          8.670000\n",
              "['Drama', 'Fantasy', 'Slice of Life']               8.670000\n",
              "['Adventure', 'Drama', 'Fantasy', 'Mystery', 'S...  8.670000"
            ],
            "text/html": [
              "\n",
              "  <div id=\"df-52cdfb6d-074b-4c81-961c-6b6750c5308e\">\n",
              "    <div class=\"colab-df-container\">\n",
              "      <div>\n",
              "<style scoped>\n",
              "    .dataframe tbody tr th:only-of-type {\n",
              "        vertical-align: middle;\n",
              "    }\n",
              "\n",
              "    .dataframe tbody tr th {\n",
              "        vertical-align: top;\n",
              "    }\n",
              "\n",
              "    .dataframe thead th {\n",
              "        text-align: right;\n",
              "    }\n",
              "</style>\n",
              "<table border=\"1\" class=\"dataframe\">\n",
              "  <thead>\n",
              "    <tr style=\"text-align: right;\">\n",
              "      <th></th>\n",
              "      <th>Rating</th>\n",
              "    </tr>\n",
              "    <tr>\n",
              "      <th>Genre</th>\n",
              "      <th></th>\n",
              "    </tr>\n",
              "  </thead>\n",
              "  <tbody>\n",
              "    <tr>\n",
              "      <th>['Comedy', 'Mystery', 'Supernatural']</th>\n",
              "      <td>8.900000</td>\n",
              "    </tr>\n",
              "    <tr>\n",
              "      <th>['Action', 'Comedy', 'Sci-Fi']</th>\n",
              "      <td>8.893333</td>\n",
              "    </tr>\n",
              "    <tr>\n",
              "      <th>['Drama', 'Slice of Life']</th>\n",
              "      <td>8.670000</td>\n",
              "    </tr>\n",
              "    <tr>\n",
              "      <th>['Drama', 'Fantasy', 'Slice of Life']</th>\n",
              "      <td>8.670000</td>\n",
              "    </tr>\n",
              "    <tr>\n",
              "      <th>['Adventure', 'Drama', 'Fantasy', 'Mystery', 'Sci-Fi']</th>\n",
              "      <td>8.670000</td>\n",
              "    </tr>\n",
              "  </tbody>\n",
              "</table>\n",
              "</div>\n",
              "      <button class=\"colab-df-convert\" onclick=\"convertToInteractive('df-52cdfb6d-074b-4c81-961c-6b6750c5308e')\"\n",
              "              title=\"Convert this dataframe to an interactive table.\"\n",
              "              style=\"display:none;\">\n",
              "        \n",
              "  <svg xmlns=\"http://www.w3.org/2000/svg\" height=\"24px\"viewBox=\"0 0 24 24\"\n",
              "       width=\"24px\">\n",
              "    <path d=\"M0 0h24v24H0V0z\" fill=\"none\"/>\n",
              "    <path d=\"M18.56 5.44l.94 2.06.94-2.06 2.06-.94-2.06-.94-.94-2.06-.94 2.06-2.06.94zm-11 1L8.5 8.5l.94-2.06 2.06-.94-2.06-.94L8.5 2.5l-.94 2.06-2.06.94zm10 10l.94 2.06.94-2.06 2.06-.94-2.06-.94-.94-2.06-.94 2.06-2.06.94z\"/><path d=\"M17.41 7.96l-1.37-1.37c-.4-.4-.92-.59-1.43-.59-.52 0-1.04.2-1.43.59L10.3 9.45l-7.72 7.72c-.78.78-.78 2.05 0 2.83L4 21.41c.39.39.9.59 1.41.59.51 0 1.02-.2 1.41-.59l7.78-7.78 2.81-2.81c.8-.78.8-2.07 0-2.86zM5.41 20L4 18.59l7.72-7.72 1.47 1.35L5.41 20z\"/>\n",
              "  </svg>\n",
              "      </button>\n",
              "      \n",
              "  <style>\n",
              "    .colab-df-container {\n",
              "      display:flex;\n",
              "      flex-wrap:wrap;\n",
              "      gap: 12px;\n",
              "    }\n",
              "\n",
              "    .colab-df-convert {\n",
              "      background-color: #E8F0FE;\n",
              "      border: none;\n",
              "      border-radius: 50%;\n",
              "      cursor: pointer;\n",
              "      display: none;\n",
              "      fill: #1967D2;\n",
              "      height: 32px;\n",
              "      padding: 0 0 0 0;\n",
              "      width: 32px;\n",
              "    }\n",
              "\n",
              "    .colab-df-convert:hover {\n",
              "      background-color: #E2EBFA;\n",
              "      box-shadow: 0px 1px 2px rgba(60, 64, 67, 0.3), 0px 1px 3px 1px rgba(60, 64, 67, 0.15);\n",
              "      fill: #174EA6;\n",
              "    }\n",
              "\n",
              "    [theme=dark] .colab-df-convert {\n",
              "      background-color: #3B4455;\n",
              "      fill: #D2E3FC;\n",
              "    }\n",
              "\n",
              "    [theme=dark] .colab-df-convert:hover {\n",
              "      background-color: #434B5C;\n",
              "      box-shadow: 0px 1px 3px 1px rgba(0, 0, 0, 0.15);\n",
              "      filter: drop-shadow(0px 1px 2px rgba(0, 0, 0, 0.3));\n",
              "      fill: #FFFFFF;\n",
              "    }\n",
              "  </style>\n",
              "\n",
              "      <script>\n",
              "        const buttonEl =\n",
              "          document.querySelector('#df-52cdfb6d-074b-4c81-961c-6b6750c5308e button.colab-df-convert');\n",
              "        buttonEl.style.display =\n",
              "          google.colab.kernel.accessAllowed ? 'block' : 'none';\n",
              "\n",
              "        async function convertToInteractive(key) {\n",
              "          const element = document.querySelector('#df-52cdfb6d-074b-4c81-961c-6b6750c5308e');\n",
              "          const dataTable =\n",
              "            await google.colab.kernel.invokeFunction('convertToInteractive',\n",
              "                                                     [key], {});\n",
              "          if (!dataTable) return;\n",
              "\n",
              "          const docLinkHtml = 'Like what you see? Visit the ' +\n",
              "            '<a target=\"_blank\" href=https://colab.research.google.com/notebooks/data_table.ipynb>data table notebook</a>'\n",
              "            + ' to learn more about interactive tables.';\n",
              "          element.innerHTML = '';\n",
              "          dataTable['output_type'] = 'display_data';\n",
              "          await google.colab.output.renderOutput(dataTable, element);\n",
              "          const docLink = document.createElement('div');\n",
              "          docLink.innerHTML = docLinkHtml;\n",
              "          element.appendChild(docLink);\n",
              "        }\n",
              "      </script>\n",
              "    </div>\n",
              "  </div>\n",
              "  "
            ]
          },
          "metadata": {},
          "execution_count": 38
        }
      ]
    },
    {
      "cell_type": "code",
      "source": [
        "# Plot bar chart\n",
        "plt.figure(figsize=(15,10))\n",
        "plt.bar(x=df2_genre.index, height=df2_genre.Rating)\n",
        "plt.xlabel(\"Anime Genre\")\n",
        "plt.xticks(rotation=45)\n",
        "plt.ylabel(\"Average Rating\")\n",
        "plt.title('Top 5 Favorite Anime Genre')\n",
        "plt.show()"
      ],
      "metadata": {
        "colab": {
          "base_uri": "https://localhost:8080/",
          "height": 796
        },
        "id": "gUc6PDg6L3Wn",
        "outputId": "9f6172f2-c82a-4445-bce3-28ea7215a7fd"
      },
      "execution_count": null,
      "outputs": [
        {
          "output_type": "display_data",
          "data": {
            "text/plain": [
              "<Figure size 1080x720 with 1 Axes>"
            ],
            "image/png": "[encoded data removed]"
          },
          "metadata": {
            "needs_background": "light"
          }
        }
      ]
    },
    {
      "cell_type": "code",
      "source": [
        "df[df['Genre']==\"['Comedy', 'Mystery', 'Supernatural']\"]"
      ],
      "metadata": {
        "colab": {
          "base_uri": "https://localhost:8080/",
          "height": 111
        },
        "id": "XoJNLOTzN86C",
        "outputId": "5543060a-dfa4-4be2-cf56-917e97ae9ad7"
      },
      "execution_count": null,
      "outputs": [
        {
          "output_type": "execute_result",
          "data": {
            "text/plain": [
              "                          Anime                                  Genre  \\\n",
              "571  Owarimonogatari 2nd Season  ['Comedy', 'Mystery', 'Supernatural']   \n",
              "999              Vampire Holmes  ['Comedy', 'Mystery', 'Supernatural']   \n",
              "\n",
              "                                           Description          Studio  \\\n",
              "571  Following an encounter with oddity specialist ...           Shaft   \n",
              "999  The great detective Holmes does not solve myst...  Studio! Cucuri   \n",
              "\n",
              "          Year  Rating  Season  \n",
              "571 2017-08-12     8.9  Summer  \n",
              "999 2015-04-04     NaN  Spring  "
            ],
            "text/html": [
              "\n",
              "  <div id=\"df-8c89b536-7492-4d9a-97bd-cd0e3803a879\">\n",
              "    <div class=\"colab-df-container\">\n",
              "      <div>\n",
              "<style scoped>\n",
              "    .dataframe tbody tr th:only-of-type {\n",
              "        vertical-align: middle;\n",
              "    }\n",
              "\n",
              "    .dataframe tbody tr th {\n",
              "        vertical-align: top;\n",
              "    }\n",
              "\n",
              "    .dataframe thead th {\n",
              "        text-align: right;\n",
              "    }\n",
              "</style>\n",
              "<table border=\"1\" class=\"dataframe\">\n",
              "  <thead>\n",
              "    <tr style=\"text-align: right;\">\n",
              "      <th></th>\n",
              "      <th>Anime</th>\n",
              "      <th>Genre</th>\n",
              "      <th>Description</th>\n",
              "      <th>Studio</th>\n",
              "      <th>Year</th>\n",
              "      <th>Rating</th>\n",
              "      <th>Season</th>\n",
              "    </tr>\n",
              "  </thead>\n",
              "  <tbody>\n",
              "    <tr>\n",
              "      <th>571</th>\n",
              "      <td>Owarimonogatari 2nd Season</td>\n",
              "      <td>['Comedy', 'Mystery', 'Supernatural']</td>\n",
              "      <td>Following an encounter with oddity specialist ...</td>\n",
              "      <td>Shaft</td>\n",
              "      <td>2017-08-12</td>\n",
              "      <td>8.9</td>\n",
              "      <td>Summer</td>\n",
              "    </tr>\n",
              "    <tr>\n",
              "      <th>999</th>\n",
              "      <td>Vampire Holmes</td>\n",
              "      <td>['Comedy', 'Mystery', 'Supernatural']</td>\n",
              "      <td>The great detective Holmes does not solve myst...</td>\n",
              "      <td>Studio! Cucuri</td>\n",
              "      <td>2015-04-04</td>\n",
              "      <td>NaN</td>\n",
              "      <td>Spring</td>\n",
              "    </tr>\n",
              "  </tbody>\n",
              "</table>\n",
              "</div>\n",
              "      <button class=\"colab-df-convert\" onclick=\"convertToInteractive('df-8c89b536-7492-4d9a-97bd-cd0e3803a879')\"\n",
              "              title=\"Convert this dataframe to an interactive table.\"\n",
              "              style=\"display:none;\">\n",
              "        \n",
              "  <svg xmlns=\"http://www.w3.org/2000/svg\" height=\"24px\"viewBox=\"0 0 24 24\"\n",
              "       width=\"24px\">\n",
              "    <path d=\"M0 0h24v24H0V0z\" fill=\"none\"/>\n",
              "    <path d=\"M18.56 5.44l.94 2.06.94-2.06 2.06-.94-2.06-.94-.94-2.06-.94 2.06-2.06.94zm-11 1L8.5 8.5l.94-2.06 2.06-.94-2.06-.94L8.5 2.5l-.94 2.06-2.06.94zm10 10l.94 2.06.94-2.06 2.06-.94-2.06-.94-.94-2.06-.94 2.06-2.06.94z\"/><path d=\"M17.41 7.96l-1.37-1.37c-.4-.4-.92-.59-1.43-.59-.52 0-1.04.2-1.43.59L10.3 9.45l-7.72 7.72c-.78.78-.78 2.05 0 2.83L4 21.41c.39.39.9.59 1.41.59.51 0 1.02-.2 1.41-.59l7.78-7.78 2.81-2.81c.8-.78.8-2.07 0-2.86zM5.41 20L4 18.59l7.72-7.72 1.47 1.35L5.41 20z\"/>\n",
              "  </svg>\n",
              "      </button>\n",
              "      \n",
              "  <style>\n",
              "    .colab-df-container {\n",
              "      display:flex;\n",
              "      flex-wrap:wrap;\n",
              "      gap: 12px;\n",
              "    }\n",
              "\n",
              "    .colab-df-convert {\n",
              "      background-color: #E8F0FE;\n",
              "      border: none;\n",
              "      border-radius: 50%;\n",
              "      cursor: pointer;\n",
              "      display: none;\n",
              "      fill: #1967D2;\n",
              "      height: 32px;\n",
              "      padding: 0 0 0 0;\n",
              "      width: 32px;\n",
              "    }\n",
              "\n",
              "    .colab-df-convert:hover {\n",
              "      background-color: #E2EBFA;\n",
              "      box-shadow: 0px 1px 2px rgba(60, 64, 67, 0.3), 0px 1px 3px 1px rgba(60, 64, 67, 0.15);\n",
              "      fill: #174EA6;\n",
              "    }\n",
              "\n",
              "    [theme=dark] .colab-df-convert {\n",
              "      background-color: #3B4455;\n",
              "      fill: #D2E3FC;\n",
              "    }\n",
              "\n",
              "    [theme=dark] .colab-df-convert:hover {\n",
              "      background-color: #434B5C;\n",
              "      box-shadow: 0px 1px 3px 1px rgba(0, 0, 0, 0.15);\n",
              "      filter: drop-shadow(0px 1px 2px rgba(0, 0, 0, 0.3));\n",
              "      fill: #FFFFFF;\n",
              "    }\n",
              "  </style>\n",
              "\n",
              "      <script>\n",
              "        const buttonEl =\n",
              "          document.querySelector('#df-8c89b536-7492-4d9a-97bd-cd0e3803a879 button.colab-df-convert');\n",
              "        buttonEl.style.display =\n",
              "          google.colab.kernel.accessAllowed ? 'block' : 'none';\n",
              "\n",
              "        async function convertToInteractive(key) {\n",
              "          const element = document.querySelector('#df-8c89b536-7492-4d9a-97bd-cd0e3803a879');\n",
              "          const dataTable =\n",
              "            await google.colab.kernel.invokeFunction('convertToInteractive',\n",
              "                                                     [key], {});\n",
              "          if (!dataTable) return;\n",
              "\n",
              "          const docLinkHtml = 'Like what you see? Visit the ' +\n",
              "            '<a target=\"_blank\" href=https://colab.research.google.com/notebooks/data_table.ipynb>data table notebook</a>'\n",
              "            + ' to learn more about interactive tables.';\n",
              "          element.innerHTML = '';\n",
              "          dataTable['output_type'] = 'display_data';\n",
              "          await google.colab.output.renderOutput(dataTable, element);\n",
              "          const docLink = document.createElement('div');\n",
              "          docLink.innerHTML = docLinkHtml;\n",
              "          element.appendChild(docLink);\n",
              "        }\n",
              "      </script>\n",
              "    </div>\n",
              "  </div>\n",
              "  "
            ]
          },
          "metadata": {},
          "execution_count": 43
        }
      ]
    },
    {
      "cell_type": "markdown",
      "source": [
        "Question 4: Which Movie Studio Produces The Best Movie"
      ],
      "metadata": {
        "id": "MMFucDdWDvt1"
      }
    },
    {
      "cell_type": "code",
      "source": [
        "# Sum anime ratings according to studio\n",
        "df2_studio_rating = df.groupby('Studio').agg({\"Rating\":'sum'})\n",
        "\n",
        "# Count the number of anime produced by each studio\n",
        "df2_studio_count = df.groupby('Studio').agg({\"Rating\":'count'})\n",
        "\n",
        "# Calculate the average rating each studio gets per anime\n",
        "df2_studio = (df2_studio_rating / df2_studio_count).sort_values('Rating', ascending=False)[:5]\n",
        "df2_studio"
      ],
      "metadata": {
        "colab": {
          "base_uri": "https://localhost:8080/",
          "height": 235
        },
        "id": "_frrKpVWDUNw",
        "outputId": "a6c826bb-7519-403d-d017-1415781e304c"
      },
      "execution_count": null,
      "outputs": [
        {
          "output_type": "execute_result",
          "data": {
            "text/plain": [
              "                         Rating\n",
              "Studio                         \n",
              "Bandai Namco Pictures  8.893333\n",
              "Shaft                  8.746667\n",
              "Toei Animation         8.650000\n",
              "CloverWorks            8.540000\n",
              "A-1 Pictures           8.510000"
            ],
            "text/html": [
              "\n",
              "  <div id=\"df-1f6a28cc-d50c-4bcb-8fcc-6a09c0e9893a\">\n",
              "    <div class=\"colab-df-container\">\n",
              "      <div>\n",
              "<style scoped>\n",
              "    .dataframe tbody tr th:only-of-type {\n",
              "        vertical-align: middle;\n",
              "    }\n",
              "\n",
              "    .dataframe tbody tr th {\n",
              "        vertical-align: top;\n",
              "    }\n",
              "\n",
              "    .dataframe thead th {\n",
              "        text-align: right;\n",
              "    }\n",
              "</style>\n",
              "<table border=\"1\" class=\"dataframe\">\n",
              "  <thead>\n",
              "    <tr style=\"text-align: right;\">\n",
              "      <th></th>\n",
              "      <th>Rating</th>\n",
              "    </tr>\n",
              "    <tr>\n",
              "      <th>Studio</th>\n",
              "      <th></th>\n",
              "    </tr>\n",
              "  </thead>\n",
              "  <tbody>\n",
              "    <tr>\n",
              "      <th>Bandai Namco Pictures</th>\n",
              "      <td>8.893333</td>\n",
              "    </tr>\n",
              "    <tr>\n",
              "      <th>Shaft</th>\n",
              "      <td>8.746667</td>\n",
              "    </tr>\n",
              "    <tr>\n",
              "      <th>Toei Animation</th>\n",
              "      <td>8.650000</td>\n",
              "    </tr>\n",
              "    <tr>\n",
              "      <th>CloverWorks</th>\n",
              "      <td>8.540000</td>\n",
              "    </tr>\n",
              "    <tr>\n",
              "      <th>A-1 Pictures</th>\n",
              "      <td>8.510000</td>\n",
              "    </tr>\n",
              "  </tbody>\n",
              "</table>\n",
              "</div>\n",
              "      <button class=\"colab-df-convert\" onclick=\"convertToInteractive('df-1f6a28cc-d50c-4bcb-8fcc-6a09c0e9893a')\"\n",
              "              title=\"Convert this dataframe to an interactive table.\"\n",
              "              style=\"display:none;\">\n",
              "        \n",
              "  <svg xmlns=\"http://www.w3.org/2000/svg\" height=\"24px\"viewBox=\"0 0 24 24\"\n",
              "       width=\"24px\">\n",
              "    <path d=\"M0 0h24v24H0V0z\" fill=\"none\"/>\n",
              "    <path d=\"M18.56 5.44l.94 2.06.94-2.06 2.06-.94-2.06-.94-.94-2.06-.94 2.06-2.06.94zm-11 1L8.5 8.5l.94-2.06 2.06-.94-2.06-.94L8.5 2.5l-.94 2.06-2.06.94zm10 10l.94 2.06.94-2.06 2.06-.94-2.06-.94-.94-2.06-.94 2.06-2.06.94z\"/><path d=\"M17.41 7.96l-1.37-1.37c-.4-.4-.92-.59-1.43-.59-.52 0-1.04.2-1.43.59L10.3 9.45l-7.72 7.72c-.78.78-.78 2.05 0 2.83L4 21.41c.39.39.9.59 1.41.59.51 0 1.02-.2 1.41-.59l7.78-7.78 2.81-2.81c.8-.78.8-2.07 0-2.86zM5.41 20L4 18.59l7.72-7.72 1.47 1.35L5.41 20z\"/>\n",
              "  </svg>\n",
              "      </button>\n",
              "      \n",
              "  <style>\n",
              "    .colab-df-container {\n",
              "      display:flex;\n",
              "      flex-wrap:wrap;\n",
              "      gap: 12px;\n",
              "    }\n",
              "\n",
              "    .colab-df-convert {\n",
              "      background-color: #E8F0FE;\n",
              "      border: none;\n",
              "      border-radius: 50%;\n",
              "      cursor: pointer;\n",
              "      display: none;\n",
              "      fill: #1967D2;\n",
              "      height: 32px;\n",
              "      padding: 0 0 0 0;\n",
              "      width: 32px;\n",
              "    }\n",
              "\n",
              "    .colab-df-convert:hover {\n",
              "      background-color: #E2EBFA;\n",
              "      box-shadow: 0px 1px 2px rgba(60, 64, 67, 0.3), 0px 1px 3px 1px rgba(60, 64, 67, 0.15);\n",
              "      fill: #174EA6;\n",
              "    }\n",
              "\n",
              "    [theme=dark] .colab-df-convert {\n",
              "      background-color: #3B4455;\n",
              "      fill: #D2E3FC;\n",
              "    }\n",
              "\n",
              "    [theme=dark] .colab-df-convert:hover {\n",
              "      background-color: #434B5C;\n",
              "      box-shadow: 0px 1px 3px 1px rgba(0, 0, 0, 0.15);\n",
              "      filter: drop-shadow(0px 1px 2px rgba(0, 0, 0, 0.3));\n",
              "      fill: #FFFFFF;\n",
              "    }\n",
              "  </style>\n",
              "\n",
              "      <script>\n",
              "        const buttonEl =\n",
              "          document.querySelector('#df-1f6a28cc-d50c-4bcb-8fcc-6a09c0e9893a button.colab-df-convert');\n",
              "        buttonEl.style.display =\n",
              "          google.colab.kernel.accessAllowed ? 'block' : 'none';\n",
              "\n",
              "        async function convertToInteractive(key) {\n",
              "          const element = document.querySelector('#df-1f6a28cc-d50c-4bcb-8fcc-6a09c0e9893a');\n",
              "          const dataTable =\n",
              "            await google.colab.kernel.invokeFunction('convertToInteractive',\n",
              "                                                     [key], {});\n",
              "          if (!dataTable) return;\n",
              "\n",
              "          const docLinkHtml = 'Like what you see? Visit the ' +\n",
              "            '<a target=\"_blank\" href=https://colab.research.google.com/notebooks/data_table.ipynb>data table notebook</a>'\n",
              "            + ' to learn more about interactive tables.';\n",
              "          element.innerHTML = '';\n",
              "          dataTable['output_type'] = 'display_data';\n",
              "          await google.colab.output.renderOutput(dataTable, element);\n",
              "          const docLink = document.createElement('div');\n",
              "          docLink.innerHTML = docLinkHtml;\n",
              "          element.appendChild(docLink);\n",
              "        }\n",
              "      </script>\n",
              "    </div>\n",
              "  </div>\n",
              "  "
            ]
          },
          "metadata": {},
          "execution_count": 40
        }
      ]
    },
    {
      "cell_type": "code",
      "source": [
        "# Plot bar chart\n",
        "plt.figure(figsize=(15,10))\n",
        "plt.bar(x=df2_studio.index, height=df2_studio.Rating)\n",
        "plt.xlabel(\"Studio\")\n",
        "plt.ylabel(\"Average Rating\")\n",
        "plt.title('Top 5 Favorite Anime Studio')\n",
        "plt.show()"
      ],
      "metadata": {
        "colab": {
          "base_uri": "https://localhost:8080/",
          "height": 621
        },
        "id": "s-B3934tEJXS",
        "outputId": "31a8a982-7730-4970-d018-1a6c8dec4bf4"
      },
      "execution_count": null,
      "outputs": [
        {
          "output_type": "display_data",
          "data": {
            "text/plain": [
              "<Figure size 1080x720 with 1 Axes>"
            ],
            "image/png": "[encoded data removed]"
          },
          "metadata": {
            "needs_background": "light"
          }
        }
      ]
    }
  ]
}