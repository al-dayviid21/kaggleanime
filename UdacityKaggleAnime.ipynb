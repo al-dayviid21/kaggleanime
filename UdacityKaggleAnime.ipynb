{
  "nbformat": 4,
  "nbformat_minor": 0,
  "metadata": {
    "colab": {
      "name": "UdacityKaggleAnime.ipynb",
      "provenance": []
    },
    "kernelspec": {
      "name": "python3",
      "display_name": "Python 3"
    },
    "language_info": {
      "name": "python"
    }
  },
  "cells": [
    {
      "cell_type": "markdown",
      "source": [
        "Import Statements"
      ],
      "metadata": {
        "id": "0ae1TSS8CWj8"
      }
    },
    {
      "cell_type": "code",
      "source": [
        "import pandas as pd\n",
        "import matplotlib.pyplot as plt\n",
        "import numpy as np\n",
        "from datetime import datetime"
      ],
      "metadata": {
        "id": "dU8n_37-Cb9I"
      },
      "execution_count": null,
      "outputs": []
    },
    {
      "cell_type": "markdown",
      "source": [
        "Questions To Be Answered"
      ],
      "metadata": {
        "id": "wUnbsybGBGzm"
      }
    },
    {
      "cell_type": "markdown",
      "source": [
        "\n",
        "\n",
        "*   What are the most popular movies\n",
        "*   What are the most popular movies according to season\n",
        "*   What Genre do most persons love\n",
        "*   What studio makes the best movies\n",
        "\n",
        "\n",
        "\n"
      ],
      "metadata": {
        "id": "jZxUepHLGgmc"
      }
    },
    {
      "cell_type": "markdown",
      "source": [
        "Gather and Inspect Data"
      ],
      "metadata": {
        "id": "ihc4TIR-CuXy"
      }
    },
    {
      "cell_type": "code",
      "source": [
        "df = pd.read_csv(\"AnimeWorld.csv\")\n",
        "df.head()"
      ],
      "metadata": {
        "colab": {
          "base_uri": "https://localhost:8080/",
          "height": 333
        },
        "id": "t_OBd6CnCs47",
        "outputId": "6531308a-a0f5-4054-b519-6e7be226c3a4"
      },
      "execution_count": null,
      "outputs": [
        {
          "output_type": "execute_result",
          "data": {
            "text/plain": [
              "   Unnamed: 0                                              Anime  \\\n",
              "0           0   Re:Zero kara Hajimeru Isekai Seikatsu 2nd Season   \n",
              "1           1                               Kanojo, Okarishimasu   \n",
              "2           2                             The God of High School   \n",
              "3           3  Maou Gakuin no Futekigousha: Shijou Saikyou no...   \n",
              "4           4                     Enen no Shouboutai: Ni no Shou   \n",
              "\n",
              "                                             Genre  \\\n",
              "0                 ['Drama', 'Fantasy', 'Suspense']   \n",
              "1                            ['Comedy', 'Romance']   \n",
              "2  ['Action', 'Fantasy', 'Sci-Fi', 'Supernatural']   \n",
              "3                            ['Action', 'Fantasy']   \n",
              "4                       ['Action', 'Supernatural']   \n",
              "\n",
              "                                         Description             Studio  \\\n",
              "0  A reunion that was supposed to spell the arriv...          White Fox   \n",
              "1  Kazuya Kinoshita is a 20-year-old college stud...  TMS Entertainment   \n",
              "2  The \"God of High School\" tournament has begun,...              MAPPA   \n",
              "3  In the distant past, a war between humans and ...       SILVER LINK.   \n",
              "4  After his confrontation in the Nether with his...   David Production   \n",
              "\n",
              "           Year  Rating  \n",
              "0   Jul 8, 2020    8.37  \n",
              "1  Jul 11, 2020     NaN  \n",
              "2   Jul 6, 2020     NaN  \n",
              "3   Jul 4, 2020     NaN  \n",
              "4   Jul 4, 2020     NaN  "
            ],
            "text/html": [
              "\n",
              "  <div id=\"df-1b65c640-b46d-455b-b155-ff2901e5b84f\">\n",
              "    <div class=\"colab-df-container\">\n",
              "      <div>\n",
              "<style scoped>\n",
              "    .dataframe tbody tr th:only-of-type {\n",
              "        vertical-align: middle;\n",
              "    }\n",
              "\n",
              "    .dataframe tbody tr th {\n",
              "        vertical-align: top;\n",
              "    }\n",
              "\n",
              "    .dataframe thead th {\n",
              "        text-align: right;\n",
              "    }\n",
              "</style>\n",
              "<table border=\"1\" class=\"dataframe\">\n",
              "  <thead>\n",
              "    <tr style=\"text-align: right;\">\n",
              "      <th></th>\n",
              "      <th>Unnamed: 0</th>\n",
              "      <th>Anime</th>\n",
              "      <th>Genre</th>\n",
              "      <th>Description</th>\n",
              "      <th>Studio</th>\n",
              "      <th>Year</th>\n",
              "      <th>Rating</th>\n",
              "    </tr>\n",
              "  </thead>\n",
              "  <tbody>\n",
              "    <tr>\n",
              "      <th>0</th>\n",
              "      <td>0</td>\n",
              "      <td>Re:Zero kara Hajimeru Isekai Seikatsu 2nd Season</td>\n",
              "      <td>['Drama', 'Fantasy', 'Suspense']</td>\n",
              "      <td>A reunion that was supposed to spell the arriv...</td>\n",
              "      <td>White Fox</td>\n",
              "      <td>Jul 8, 2020</td>\n",
              "      <td>8.37</td>\n",
              "    </tr>\n",
              "    <tr>\n",
              "      <th>1</th>\n",
              "      <td>1</td>\n",
              "      <td>Kanojo, Okarishimasu</td>\n",
              "      <td>['Comedy', 'Romance']</td>\n",
              "      <td>Kazuya Kinoshita is a 20-year-old college stud...</td>\n",
              "      <td>TMS Entertainment</td>\n",
              "      <td>Jul 11, 2020</td>\n",
              "      <td>NaN</td>\n",
              "    </tr>\n",
              "    <tr>\n",
              "      <th>2</th>\n",
              "      <td>2</td>\n",
              "      <td>The God of High School</td>\n",
              "      <td>['Action', 'Fantasy', 'Sci-Fi', 'Supernatural']</td>\n",
              "      <td>The \"God of High School\" tournament has begun,...</td>\n",
              "      <td>MAPPA</td>\n",
              "      <td>Jul 6, 2020</td>\n",
              "      <td>NaN</td>\n",
              "    </tr>\n",
              "    <tr>\n",
              "      <th>3</th>\n",
              "      <td>3</td>\n",
              "      <td>Maou Gakuin no Futekigousha: Shijou Saikyou no...</td>\n",
              "      <td>['Action', 'Fantasy']</td>\n",
              "      <td>In the distant past, a war between humans and ...</td>\n",
              "      <td>SILVER LINK.</td>\n",
              "      <td>Jul 4, 2020</td>\n",
              "      <td>NaN</td>\n",
              "    </tr>\n",
              "    <tr>\n",
              "      <th>4</th>\n",
              "      <td>4</td>\n",
              "      <td>Enen no Shouboutai: Ni no Shou</td>\n",
              "      <td>['Action', 'Supernatural']</td>\n",
              "      <td>After his confrontation in the Nether with his...</td>\n",
              "      <td>David Production</td>\n",
              "      <td>Jul 4, 2020</td>\n",
              "      <td>NaN</td>\n",
              "    </tr>\n",
              "  </tbody>\n",
              "</table>\n",
              "</div>\n",
              "      <button class=\"colab-df-convert\" onclick=\"convertToInteractive('df-1b65c640-b46d-455b-b155-ff2901e5b84f')\"\n",
              "              title=\"Convert this dataframe to an interactive table.\"\n",
              "              style=\"display:none;\">\n",
              "        \n",
              "  <svg xmlns=\"http://www.w3.org/2000/svg\" height=\"24px\"viewBox=\"0 0 24 24\"\n",
              "       width=\"24px\">\n",
              "    <path d=\"M0 0h24v24H0V0z\" fill=\"none\"/>\n",
              "    <path d=\"M18.56 5.44l.94 2.06.94-2.06 2.06-.94-2.06-.94-.94-2.06-.94 2.06-2.06.94zm-11 1L8.5 8.5l.94-2.06 2.06-.94-2.06-.94L8.5 2.5l-.94 2.06-2.06.94zm10 10l.94 2.06.94-2.06 2.06-.94-2.06-.94-.94-2.06-.94 2.06-2.06.94z\"/><path d=\"M17.41 7.96l-1.37-1.37c-.4-.4-.92-.59-1.43-.59-.52 0-1.04.2-1.43.59L10.3 9.45l-7.72 7.72c-.78.78-.78 2.05 0 2.83L4 21.41c.39.39.9.59 1.41.59.51 0 1.02-.2 1.41-.59l7.78-7.78 2.81-2.81c.8-.78.8-2.07 0-2.86zM5.41 20L4 18.59l7.72-7.72 1.47 1.35L5.41 20z\"/>\n",
              "  </svg>\n",
              "      </button>\n",
              "      \n",
              "  <style>\n",
              "    .colab-df-container {\n",
              "      display:flex;\n",
              "      flex-wrap:wrap;\n",
              "      gap: 12px;\n",
              "    }\n",
              "\n",
              "    .colab-df-convert {\n",
              "      background-color: #E8F0FE;\n",
              "      border: none;\n",
              "      border-radius: 50%;\n",
              "      cursor: pointer;\n",
              "      display: none;\n",
              "      fill: #1967D2;\n",
              "      height: 32px;\n",
              "      padding: 0 0 0 0;\n",
              "      width: 32px;\n",
              "    }\n",
              "\n",
              "    .colab-df-convert:hover {\n",
              "      background-color: #E2EBFA;\n",
              "      box-shadow: 0px 1px 2px rgba(60, 64, 67, 0.3), 0px 1px 3px 1px rgba(60, 64, 67, 0.15);\n",
              "      fill: #174EA6;\n",
              "    }\n",
              "\n",
              "    [theme=dark] .colab-df-convert {\n",
              "      background-color: #3B4455;\n",
              "      fill: #D2E3FC;\n",
              "    }\n",
              "\n",
              "    [theme=dark] .colab-df-convert:hover {\n",
              "      background-color: #434B5C;\n",
              "      box-shadow: 0px 1px 3px 1px rgba(0, 0, 0, 0.15);\n",
              "      filter: drop-shadow(0px 1px 2px rgba(0, 0, 0, 0.3));\n",
              "      fill: #FFFFFF;\n",
              "    }\n",
              "  </style>\n",
              "\n",
              "      <script>\n",
              "        const buttonEl =\n",
              "          document.querySelector('#df-1b65c640-b46d-455b-b155-ff2901e5b84f button.colab-df-convert');\n",
              "        buttonEl.style.display =\n",
              "          google.colab.kernel.accessAllowed ? 'block' : 'none';\n",
              "\n",
              "        async function convertToInteractive(key) {\n",
              "          const element = document.querySelector('#df-1b65c640-b46d-455b-b155-ff2901e5b84f');\n",
              "          const dataTable =\n",
              "            await google.colab.kernel.invokeFunction('convertToInteractive',\n",
              "                                                     [key], {});\n",
              "          if (!dataTable) return;\n",
              "\n",
              "          const docLinkHtml = 'Like what you see? Visit the ' +\n",
              "            '<a target=\"_blank\" href=https://colab.research.google.com/notebooks/data_table.ipynb>data table notebook</a>'\n",
              "            + ' to learn more about interactive tables.';\n",
              "          element.innerHTML = '';\n",
              "          dataTable['output_type'] = 'display_data';\n",
              "          await google.colab.output.renderOutput(dataTable, element);\n",
              "          const docLink = document.createElement('div');\n",
              "          docLink.innerHTML = docLinkHtml;\n",
              "          element.appendChild(docLink);\n",
              "        }\n",
              "      </script>\n",
              "    </div>\n",
              "  </div>\n",
              "  "
            ]
          },
          "metadata": {},
          "execution_count": 5
        }
      ]
    },
    {
      "cell_type": "code",
      "source": [
        "# Check data types and nulls\n",
        "df.info()"
      ],
      "metadata": {
        "colab": {
          "base_uri": "https://localhost:8080/"
        },
        "id": "EAIVKuvxDMci",
        "outputId": "c6bf9c45-1b99-4bdc-cbe3-25208cc6a9ad"
      },
      "execution_count": null,
      "outputs": [
        {
          "output_type": "stream",
          "name": "stdout",
          "text": [
            "<class 'pandas.core.frame.DataFrame'>\n",
            "RangeIndex: 1005 entries, 0 to 1004\n",
            "Data columns (total 7 columns):\n",
            " #   Column       Non-Null Count  Dtype  \n",
            "---  ------       --------------  -----  \n",
            " 0   Unnamed: 0   1005 non-null   int64  \n",
            " 1   Anime        1005 non-null   object \n",
            " 2   Genre        1005 non-null   object \n",
            " 3   Description  1005 non-null   object \n",
            " 4   Studio       977 non-null    object \n",
            " 5   Year         1005 non-null   object \n",
            " 6   Rating       97 non-null     float64\n",
            "dtypes: float64(1), int64(1), object(5)\n",
            "memory usage: 55.1+ KB\n"
          ]
        }
      ]
    },
    {
      "cell_type": "code",
      "source": [
        "# Inspect the distribution of the rating column\n",
        "plt.hist(df.Rating);"
      ],
      "metadata": {
        "colab": {
          "base_uri": "https://localhost:8080/",
          "height": 268
        },
        "id": "oW0QrvlCDlvH",
        "outputId": "548b57b3-2751-4088-ec96-eb1a058e93b5"
      },
      "execution_count": null,
      "outputs": [
        {
          "output_type": "display_data",
          "data": {
            "text/plain": [
              "<Figure size 432x288 with 1 Axes>"
            ],
            "image/png": "[encoded data removed]"
          },
          "metadata": {
            "needs_background": "light"
          }
        }
      ]
    },
    {
      "cell_type": "code",
      "source": [
        "df.Studio.value_counts()"
      ],
      "metadata": {
        "colab": {
          "base_uri": "https://localhost:8080/"
        },
        "id": "2JjnYJDXEV99",
        "outputId": "8ca72004-6c7e-4bf0-bab3-e8e42a11a90b"
      },
      "execution_count": null,
      "outputs": [
        {
          "output_type": "execute_result",
          "data": {
            "text/plain": [
              "A-1 Pictures         38\n",
              "J.C.Staff            35\n",
              "Studio Deen          31\n",
              "OLM                  29\n",
              "TMS Entertainment    27\n",
              "                     ..\n",
              "Maho Film             1\n",
              "Animation Planet      1\n",
              "Shimogumi             1\n",
              "Studio VOLN           1\n",
              "Gainax                1\n",
              "Name: Studio, Length: 209, dtype: int64"
            ]
          },
          "metadata": {},
          "execution_count": 13
        }
      ]
    },
    {
      "cell_type": "code",
      "source": [
        "df.Genre.value_counts()[:15]"
      ],
      "metadata": {
        "colab": {
          "base_uri": "https://localhost:8080/"
        },
        "id": "dbmmOCpNFBx0",
        "outputId": "1e46a0a0-bff3-46f1-e407-7f5cee20b552"
      },
      "execution_count": null,
      "outputs": [
        {
          "output_type": "execute_result",
          "data": {
            "text/plain": [
              "Comedy                                107\n",
              "['Comedy', 'Slice of Life']            96\n",
              "Slice of Life                          43\n",
              "[]                                     36\n",
              "['Action', 'Adventure', 'Fantasy']     31\n",
              "Sports                                 30\n",
              "['Action', 'Sci-Fi']                   28\n",
              "Action                                 27\n",
              "['Action', 'Fantasy']                  21\n",
              "['Comedy', 'Romance']                  20\n",
              "['Comedy', 'Supernatural']             17\n",
              "['Comedy', 'Fantasy']                  14\n",
              "Drama                                  13\n",
              "Fantasy                                12\n",
              "['Adventure', 'Fantasy']               11\n",
              "Name: Genre, dtype: int64"
            ]
          },
          "metadata": {},
          "execution_count": 15
        }
      ]
    },
    {
      "cell_type": "markdown",
      "source": [
        "Wrangle Data"
      ],
      "metadata": {
        "id": "4nT-_IqbFlkF"
      }
    },
    {
      "cell_type": "code",
      "source": [
        "# Drop unwanted column\n",
        "df = df.drop('Unnamed: 0', axis = 1)\n",
        "df.head()"
      ],
      "metadata": {
        "colab": {
          "base_uri": "https://localhost:8080/",
          "height": 299
        },
        "id": "Z5gDnt0KFnSE",
        "outputId": "f933b64a-d026-4db2-c434-6b142faf53d7"
      },
      "execution_count": null,
      "outputs": [
        {
          "output_type": "execute_result",
          "data": {
            "text/plain": [
              "                                               Anime  \\\n",
              "0   Re:Zero kara Hajimeru Isekai Seikatsu 2nd Season   \n",
              "1                               Kanojo, Okarishimasu   \n",
              "2                             The God of High School   \n",
              "3  Maou Gakuin no Futekigousha: Shijou Saikyou no...   \n",
              "4                     Enen no Shouboutai: Ni no Shou   \n",
              "\n",
              "                                             Genre  \\\n",
              "0                 ['Drama', 'Fantasy', 'Suspense']   \n",
              "1                            ['Comedy', 'Romance']   \n",
              "2  ['Action', 'Fantasy', 'Sci-Fi', 'Supernatural']   \n",
              "3                            ['Action', 'Fantasy']   \n",
              "4                       ['Action', 'Supernatural']   \n",
              "\n",
              "                                         Description             Studio  \\\n",
              "0  A reunion that was supposed to spell the arriv...          White Fox   \n",
              "1  Kazuya Kinoshita is a 20-year-old college stud...  TMS Entertainment   \n",
              "2  The \"God of High School\" tournament has begun,...              MAPPA   \n",
              "3  In the distant past, a war between humans and ...       SILVER LINK.   \n",
              "4  After his confrontation in the Nether with his...   David Production   \n",
              "\n",
              "           Year  Rating  \n",
              "0   Jul 8, 2020    8.37  \n",
              "1  Jul 11, 2020     NaN  \n",
              "2   Jul 6, 2020     NaN  \n",
              "3   Jul 4, 2020     NaN  \n",
              "4   Jul 4, 2020     NaN  "
            ],
            "text/html": [
              "\n",
              "  <div id=\"df-d839c53b-ff61-4995-88a8-f519c4f63fbd\">\n",
              "    <div class=\"colab-df-container\">\n",
              "      <div>\n",
              "<style scoped>\n",
              "    .dataframe tbody tr th:only-of-type {\n",
              "        vertical-align: middle;\n",
              "    }\n",
              "\n",
              "    .dataframe tbody tr th {\n",
              "        vertical-align: top;\n",
              "    }\n",
              "\n",
              "    .dataframe thead th {\n",
              "        text-align: right;\n",
              "    }\n",
              "</style>\n",
              "<table border=\"1\" class=\"dataframe\">\n",
              "  <thead>\n",
              "    <tr style=\"text-align: right;\">\n",
              "      <th></th>\n",
              "      <th>Anime</th>\n",
              "      <th>Genre</th>\n",
              "      <th>Description</th>\n",
              "      <th>Studio</th>\n",
              "      <th>Year</th>\n",
              "      <th>Rating</th>\n",
              "    </tr>\n",
              "  </thead>\n",
              "  <tbody>\n",
              "    <tr>\n",
              "      <th>0</th>\n",
              "      <td>Re:Zero kara Hajimeru Isekai Seikatsu 2nd Season</td>\n",
              "      <td>['Drama', 'Fantasy', 'Suspense']</td>\n",
              "      <td>A reunion that was supposed to spell the arriv...</td>\n",
              "      <td>White Fox</td>\n",
              "      <td>Jul 8, 2020</td>\n",
              "      <td>8.37</td>\n",
              "    </tr>\n",
              "    <tr>\n",
              "      <th>1</th>\n",
              "      <td>Kanojo, Okarishimasu</td>\n",
              "      <td>['Comedy', 'Romance']</td>\n",
              "      <td>Kazuya Kinoshita is a 20-year-old college stud...</td>\n",
              "      <td>TMS Entertainment</td>\n",
              "      <td>Jul 11, 2020</td>\n",
              "      <td>NaN</td>\n",
              "    </tr>\n",
              "    <tr>\n",
              "      <th>2</th>\n",
              "      <td>The God of High School</td>\n",
              "      <td>['Action', 'Fantasy', 'Sci-Fi', 'Supernatural']</td>\n",
              "      <td>The \"God of High School\" tournament has begun,...</td>\n",
              "      <td>MAPPA</td>\n",
              "      <td>Jul 6, 2020</td>\n",
              "      <td>NaN</td>\n",
              "    </tr>\n",
              "    <tr>\n",
              "      <th>3</th>\n",
              "      <td>Maou Gakuin no Futekigousha: Shijou Saikyou no...</td>\n",
              "      <td>['Action', 'Fantasy']</td>\n",
              "      <td>In the distant past, a war between humans and ...</td>\n",
              "      <td>SILVER LINK.</td>\n",
              "      <td>Jul 4, 2020</td>\n",
              "      <td>NaN</td>\n",
              "    </tr>\n",
              "    <tr>\n",
              "      <th>4</th>\n",
              "      <td>Enen no Shouboutai: Ni no Shou</td>\n",
              "      <td>['Action', 'Supernatural']</td>\n",
              "      <td>After his confrontation in the Nether with his...</td>\n",
              "      <td>David Production</td>\n",
              "      <td>Jul 4, 2020</td>\n",
              "      <td>NaN</td>\n",
              "    </tr>\n",
              "  </tbody>\n",
              "</table>\n",
              "</div>\n",
              "      <button class=\"colab-df-convert\" onclick=\"convertToInteractive('df-d839c53b-ff61-4995-88a8-f519c4f63fbd')\"\n",
              "              title=\"Convert this dataframe to an interactive table.\"\n",
              "              style=\"display:none;\">\n",
              "        \n",
              "  <svg xmlns=\"http://www.w3.org/2000/svg\" height=\"24px\"viewBox=\"0 0 24 24\"\n",
              "       width=\"24px\">\n",
              "    <path d=\"M0 0h24v24H0V0z\" fill=\"none\"/>\n",
              "    <path d=\"M18.56 5.44l.94 2.06.94-2.06 2.06-.94-2.06-.94-.94-2.06-.94 2.06-2.06.94zm-11 1L8.5 8.5l.94-2.06 2.06-.94-2.06-.94L8.5 2.5l-.94 2.06-2.06.94zm10 10l.94 2.06.94-2.06 2.06-.94-2.06-.94-.94-2.06-.94 2.06-2.06.94z\"/><path d=\"M17.41 7.96l-1.37-1.37c-.4-.4-.92-.59-1.43-.59-.52 0-1.04.2-1.43.59L10.3 9.45l-7.72 7.72c-.78.78-.78 2.05 0 2.83L4 21.41c.39.39.9.59 1.41.59.51 0 1.02-.2 1.41-.59l7.78-7.78 2.81-2.81c.8-.78.8-2.07 0-2.86zM5.41 20L4 18.59l7.72-7.72 1.47 1.35L5.41 20z\"/>\n",
              "  </svg>\n",
              "      </button>\n",
              "      \n",
              "  <style>\n",
              "    .colab-df-container {\n",
              "      display:flex;\n",
              "      flex-wrap:wrap;\n",
              "      gap: 12px;\n",
              "    }\n",
              "\n",
              "    .colab-df-convert {\n",
              "      background-color: #E8F0FE;\n",
              "      border: none;\n",
              "      border-radius: 50%;\n",
              "      cursor: pointer;\n",
              "      display: none;\n",
              "      fill: #1967D2;\n",
              "      height: 32px;\n",
              "      padding: 0 0 0 0;\n",
              "      width: 32px;\n",
              "    }\n",
              "\n",
              "    .colab-df-convert:hover {\n",
              "      background-color: #E2EBFA;\n",
              "      box-shadow: 0px 1px 2px rgba(60, 64, 67, 0.3), 0px 1px 3px 1px rgba(60, 64, 67, 0.15);\n",
              "      fill: #174EA6;\n",
              "    }\n",
              "\n",
              "    [theme=dark] .colab-df-convert {\n",
              "      background-color: #3B4455;\n",
              "      fill: #D2E3FC;\n",
              "    }\n",
              "\n",
              "    [theme=dark] .colab-df-convert:hover {\n",
              "      background-color: #434B5C;\n",
              "      box-shadow: 0px 1px 3px 1px rgba(0, 0, 0, 0.15);\n",
              "      filter: drop-shadow(0px 1px 2px rgba(0, 0, 0, 0.3));\n",
              "      fill: #FFFFFF;\n",
              "    }\n",
              "  </style>\n",
              "\n",
              "      <script>\n",
              "        const buttonEl =\n",
              "          document.querySelector('#df-d839c53b-ff61-4995-88a8-f519c4f63fbd button.colab-df-convert');\n",
              "        buttonEl.style.display =\n",
              "          google.colab.kernel.accessAllowed ? 'block' : 'none';\n",
              "\n",
              "        async function convertToInteractive(key) {\n",
              "          const element = document.querySelector('#df-d839c53b-ff61-4995-88a8-f519c4f63fbd');\n",
              "          const dataTable =\n",
              "            await google.colab.kernel.invokeFunction('convertToInteractive',\n",
              "                                                     [key], {});\n",
              "          if (!dataTable) return;\n",
              "\n",
              "          const docLinkHtml = 'Like what you see? Visit the ' +\n",
              "            '<a target=\"_blank\" href=https://colab.research.google.com/notebooks/data_table.ipynb>data table notebook</a>'\n",
              "            + ' to learn more about interactive tables.';\n",
              "          element.innerHTML = '';\n",
              "          dataTable['output_type'] = 'display_data';\n",
              "          await google.colab.output.renderOutput(dataTable, element);\n",
              "          const docLink = document.createElement('div');\n",
              "          docLink.innerHTML = docLinkHtml;\n",
              "          element.appendChild(docLink);\n",
              "        }\n",
              "      </script>\n",
              "    </div>\n",
              "  </div>\n",
              "  "
            ]
          },
          "metadata": {},
          "execution_count": 16
        }
      ]
    },
    {
      "cell_type": "code",
      "source": [
        "# Convert Year column from Object to Datetime Format\n",
        "df['Year'] = pd.to_datetime(df['Year'])\n",
        "df.info()"
      ],
      "metadata": {
        "colab": {
          "base_uri": "https://localhost:8080/"
        },
        "id": "kqcwl0zzFz2f",
        "outputId": "7b04eb63-a918-4b59-e985-be7b51547669"
      },
      "execution_count": null,
      "outputs": [
        {
          "output_type": "stream",
          "name": "stdout",
          "text": [
            "<class 'pandas.core.frame.DataFrame'>\n",
            "RangeIndex: 1005 entries, 0 to 1004\n",
            "Data columns (total 6 columns):\n",
            " #   Column       Non-Null Count  Dtype         \n",
            "---  ------       --------------  -----         \n",
            " 0   Anime        1005 non-null   object        \n",
            " 1   Genre        1005 non-null   object        \n",
            " 2   Description  1005 non-null   object        \n",
            " 3   Studio       977 non-null    object        \n",
            " 4   Year         1005 non-null   datetime64[ns]\n",
            " 5   Rating       97 non-null     float64       \n",
            "dtypes: datetime64[ns](1), float64(1), object(4)\n",
            "memory usage: 47.2+ KB\n"
          ]
        }
      ]
    },
    {
      "cell_type": "code",
      "source": [
        "df.Year.tail()"
      ],
      "metadata": {
        "colab": {
          "base_uri": "https://localhost:8080/"
        },
        "id": "qaQI8Wz9G9Q_",
        "outputId": "63fea0cc-71c6-4aab-baaa-fd2cf7de3ae9"
      },
      "execution_count": null,
      "outputs": [
        {
          "output_type": "execute_result",
          "data": {
            "text/plain": [
              "1000   2015-04-10\n",
              "1001   2015-04-07\n",
              "1002   2015-04-05\n",
              "1003   2015-04-07\n",
              "1004   2015-04-06\n",
              "Name: Year, dtype: datetime64[ns]"
            ]
          },
          "metadata": {},
          "execution_count": 19
        }
      ]
    },
    {
      "cell_type": "code",
      "source": [
        "# Replace empty list strings with NaN\n",
        "df['Genre'] = df['Genre'].replace('[]', np.nan) \n",
        "df[df['Genre'] == '[]']"
      ],
      "metadata": {
        "colab": {
          "base_uri": "https://localhost:8080/",
          "height": 49
        },
        "id": "w-KtYV2lHb2G",
        "outputId": "444ea174-7b58-4d66-fca9-50cca22b39c5"
      },
      "execution_count": null,
      "outputs": [
        {
          "output_type": "execute_result",
          "data": {
            "text/plain": [
              "Empty DataFrame\n",
              "Columns: [Anime, Genre, Description, Studio, Year, Rating]\n",
              "Index: []"
            ],
            "text/html": [
              "\n",
              "  <div id=\"df-6872673a-f482-4f27-ba8a-910e3698ae9a\">\n",
              "    <div class=\"colab-df-container\">\n",
              "      <div>\n",
              "<style scoped>\n",
              "    .dataframe tbody tr th:only-of-type {\n",
              "        vertical-align: middle;\n",
              "    }\n",
              "\n",
              "    .dataframe tbody tr th {\n",
              "        vertical-align: top;\n",
              "    }\n",
              "\n",
              "    .dataframe thead th {\n",
              "        text-align: right;\n",
              "    }\n",
              "</style>\n",
              "<table border=\"1\" class=\"dataframe\">\n",
              "  <thead>\n",
              "    <tr style=\"text-align: right;\">\n",
              "      <th></th>\n",
              "      <th>Anime</th>\n",
              "      <th>Genre</th>\n",
              "      <th>Description</th>\n",
              "      <th>Studio</th>\n",
              "      <th>Year</th>\n",
              "      <th>Rating</th>\n",
              "    </tr>\n",
              "  </thead>\n",
              "  <tbody>\n",
              "  </tbody>\n",
              "</table>\n",
              "</div>\n",
              "      <button class=\"colab-df-convert\" onclick=\"convertToInteractive('df-6872673a-f482-4f27-ba8a-910e3698ae9a')\"\n",
              "              title=\"Convert this dataframe to an interactive table.\"\n",
              "              style=\"display:none;\">\n",
              "        \n",
              "  <svg xmlns=\"http://www.w3.org/2000/svg\" height=\"24px\"viewBox=\"0 0 24 24\"\n",
              "       width=\"24px\">\n",
              "    <path d=\"M0 0h24v24H0V0z\" fill=\"none\"/>\n",
              "    <path d=\"M18.56 5.44l.94 2.06.94-2.06 2.06-.94-2.06-.94-.94-2.06-.94 2.06-2.06.94zm-11 1L8.5 8.5l.94-2.06 2.06-.94-2.06-.94L8.5 2.5l-.94 2.06-2.06.94zm10 10l.94 2.06.94-2.06 2.06-.94-2.06-.94-.94-2.06-.94 2.06-2.06.94z\"/><path d=\"M17.41 7.96l-1.37-1.37c-.4-.4-.92-.59-1.43-.59-.52 0-1.04.2-1.43.59L10.3 9.45l-7.72 7.72c-.78.78-.78 2.05 0 2.83L4 21.41c.39.39.9.59 1.41.59.51 0 1.02-.2 1.41-.59l7.78-7.78 2.81-2.81c.8-.78.8-2.07 0-2.86zM5.41 20L4 18.59l7.72-7.72 1.47 1.35L5.41 20z\"/>\n",
              "  </svg>\n",
              "      </button>\n",
              "      \n",
              "  <style>\n",
              "    .colab-df-container {\n",
              "      display:flex;\n",
              "      flex-wrap:wrap;\n",
              "      gap: 12px;\n",
              "    }\n",
              "\n",
              "    .colab-df-convert {\n",
              "      background-color: #E8F0FE;\n",
              "      border: none;\n",
              "      border-radius: 50%;\n",
              "      cursor: pointer;\n",
              "      display: none;\n",
              "      fill: #1967D2;\n",
              "      height: 32px;\n",
              "      padding: 0 0 0 0;\n",
              "      width: 32px;\n",
              "    }\n",
              "\n",
              "    .colab-df-convert:hover {\n",
              "      background-color: #E2EBFA;\n",
              "      box-shadow: 0px 1px 2px rgba(60, 64, 67, 0.3), 0px 1px 3px 1px rgba(60, 64, 67, 0.15);\n",
              "      fill: #174EA6;\n",
              "    }\n",
              "\n",
              "    [theme=dark] .colab-df-convert {\n",
              "      background-color: #3B4455;\n",
              "      fill: #D2E3FC;\n",
              "    }\n",
              "\n",
              "    [theme=dark] .colab-df-convert:hover {\n",
              "      background-color: #434B5C;\n",
              "      box-shadow: 0px 1px 3px 1px rgba(0, 0, 0, 0.15);\n",
              "      filter: drop-shadow(0px 1px 2px rgba(0, 0, 0, 0.3));\n",
              "      fill: #FFFFFF;\n",
              "    }\n",
              "  </style>\n",
              "\n",
              "      <script>\n",
              "        const buttonEl =\n",
              "          document.querySelector('#df-6872673a-f482-4f27-ba8a-910e3698ae9a button.colab-df-convert');\n",
              "        buttonEl.style.display =\n",
              "          google.colab.kernel.accessAllowed ? 'block' : 'none';\n",
              "\n",
              "        async function convertToInteractive(key) {\n",
              "          const element = document.querySelector('#df-6872673a-f482-4f27-ba8a-910e3698ae9a');\n",
              "          const dataTable =\n",
              "            await google.colab.kernel.invokeFunction('convertToInteractive',\n",
              "                                                     [key], {});\n",
              "          if (!dataTable) return;\n",
              "\n",
              "          const docLinkHtml = 'Like what you see? Visit the ' +\n",
              "            '<a target=\"_blank\" href=https://colab.research.google.com/notebooks/data_table.ipynb>data table notebook</a>'\n",
              "            + ' to learn more about interactive tables.';\n",
              "          element.innerHTML = '';\n",
              "          dataTable['output_type'] = 'display_data';\n",
              "          await google.colab.output.renderOutput(dataTable, element);\n",
              "          const docLink = document.createElement('div');\n",
              "          docLink.innerHTML = docLinkHtml;\n",
              "          element.appendChild(docLink);\n",
              "        }\n",
              "      </script>\n",
              "    </div>\n",
              "  </div>\n",
              "  "
            ]
          },
          "metadata": {},
          "execution_count": 22
        }
      ]
    },
    {
      "cell_type": "code",
      "source": [
        "def season_func(year):\n",
        "  month = int(datetime.strftime(year, '%m'))\n",
        "  if month in [12, 1, 2]:\n",
        "    return \"Winter\"\n",
        "  elif month in [3,4,5]:\n",
        "    return 'Spring'\n",
        "  elif month in [6,7,8]:\n",
        "    return 'Summer'\n",
        "  return 'Autumn'\n",
        "\n",
        "df['Season'] = df.Year.apply(season_func)\n",
        "df.head()"
      ],
      "metadata": {
        "colab": {
          "base_uri": "https://localhost:8080/",
          "height": 333
        },
        "id": "X3_XpHVmHiCx",
        "outputId": "41731d98-a8fc-4962-b4a0-30fa00e487c8"
      },
      "execution_count": null,
      "outputs": [
        {
          "output_type": "execute_result",
          "data": {
            "text/plain": [
              "                                               Anime  \\\n",
              "0   Re:Zero kara Hajimeru Isekai Seikatsu 2nd Season   \n",
              "1                               Kanojo, Okarishimasu   \n",
              "2                             The God of High School   \n",
              "3  Maou Gakuin no Futekigousha: Shijou Saikyou no...   \n",
              "4                     Enen no Shouboutai: Ni no Shou   \n",
              "\n",
              "                                             Genre  \\\n",
              "0                 ['Drama', 'Fantasy', 'Suspense']   \n",
              "1                            ['Comedy', 'Romance']   \n",
              "2  ['Action', 'Fantasy', 'Sci-Fi', 'Supernatural']   \n",
              "3                            ['Action', 'Fantasy']   \n",
              "4                       ['Action', 'Supernatural']   \n",
              "\n",
              "                                         Description             Studio  \\\n",
              "0  A reunion that was supposed to spell the arriv...          White Fox   \n",
              "1  Kazuya Kinoshita is a 20-year-old college stud...  TMS Entertainment   \n",
              "2  The \"God of High School\" tournament has begun,...              MAPPA   \n",
              "3  In the distant past, a war between humans and ...       SILVER LINK.   \n",
              "4  After his confrontation in the Nether with his...   David Production   \n",
              "\n",
              "        Year  Rating  Month  Season  \n",
              "0 2020-07-08    8.37      7  Summer  \n",
              "1 2020-07-11     NaN      7  Summer  \n",
              "2 2020-07-06     NaN      7  Summer  \n",
              "3 2020-07-04     NaN      7  Summer  \n",
              "4 2020-07-04     NaN      7  Summer  "
            ],
            "text/html": [
              "\n",
              "  <div id=\"df-220bdd5b-af89-4f1b-987a-6780cc5b40e1\">\n",
              "    <div class=\"colab-df-container\">\n",
              "      <div>\n",
              "<style scoped>\n",
              "    .dataframe tbody tr th:only-of-type {\n",
              "        vertical-align: middle;\n",
              "    }\n",
              "\n",
              "    .dataframe tbody tr th {\n",
              "        vertical-align: top;\n",
              "    }\n",
              "\n",
              "    .dataframe thead th {\n",
              "        text-align: right;\n",
              "    }\n",
              "</style>\n",
              "<table border=\"1\" class=\"dataframe\">\n",
              "  <thead>\n",
              "    <tr style=\"text-align: right;\">\n",
              "      <th></th>\n",
              "      <th>Anime</th>\n",
              "      <th>Genre</th>\n",
              "      <th>Description</th>\n",
              "      <th>Studio</th>\n",
              "      <th>Year</th>\n",
              "      <th>Rating</th>\n",
              "      <th>Month</th>\n",
              "      <th>Season</th>\n",
              "    </tr>\n",
              "  </thead>\n",
              "  <tbody>\n",
              "    <tr>\n",
              "      <th>0</th>\n",
              "      <td>Re:Zero kara Hajimeru Isekai Seikatsu 2nd Season</td>\n",
              "      <td>['Drama', 'Fantasy', 'Suspense']</td>\n",
              "      <td>A reunion that was supposed to spell the arriv...</td>\n",
              "      <td>White Fox</td>\n",
              "      <td>2020-07-08</td>\n",
              "      <td>8.37</td>\n",
              "      <td>7</td>\n",
              "      <td>Summer</td>\n",
              "    </tr>\n",
              "    <tr>\n",
              "      <th>1</th>\n",
              "      <td>Kanojo, Okarishimasu</td>\n",
              "      <td>['Comedy', 'Romance']</td>\n",
              "      <td>Kazuya Kinoshita is a 20-year-old college stud...</td>\n",
              "      <td>TMS Entertainment</td>\n",
              "      <td>2020-07-11</td>\n",
              "      <td>NaN</td>\n",
              "      <td>7</td>\n",
              "      <td>Summer</td>\n",
              "    </tr>\n",
              "    <tr>\n",
              "      <th>2</th>\n",
              "      <td>The God of High School</td>\n",
              "      <td>['Action', 'Fantasy', 'Sci-Fi', 'Supernatural']</td>\n",
              "      <td>The \"God of High School\" tournament has begun,...</td>\n",
              "      <td>MAPPA</td>\n",
              "      <td>2020-07-06</td>\n",
              "      <td>NaN</td>\n",
              "      <td>7</td>\n",
              "      <td>Summer</td>\n",
              "    </tr>\n",
              "    <tr>\n",
              "      <th>3</th>\n",
              "      <td>Maou Gakuin no Futekigousha: Shijou Saikyou no...</td>\n",
              "      <td>['Action', 'Fantasy']</td>\n",
              "      <td>In the distant past, a war between humans and ...</td>\n",
              "      <td>SILVER LINK.</td>\n",
              "      <td>2020-07-04</td>\n",
              "      <td>NaN</td>\n",
              "      <td>7</td>\n",
              "      <td>Summer</td>\n",
              "    </tr>\n",
              "    <tr>\n",
              "      <th>4</th>\n",
              "      <td>Enen no Shouboutai: Ni no Shou</td>\n",
              "      <td>['Action', 'Supernatural']</td>\n",
              "      <td>After his confrontation in the Nether with his...</td>\n",
              "      <td>David Production</td>\n",
              "      <td>2020-07-04</td>\n",
              "      <td>NaN</td>\n",
              "      <td>7</td>\n",
              "      <td>Summer</td>\n",
              "    </tr>\n",
              "  </tbody>\n",
              "</table>\n",
              "</div>\n",
              "      <button class=\"colab-df-convert\" onclick=\"convertToInteractive('df-220bdd5b-af89-4f1b-987a-6780cc5b40e1')\"\n",
              "              title=\"Convert this dataframe to an interactive table.\"\n",
              "              style=\"display:none;\">\n",
              "        \n",
              "  <svg xmlns=\"http://www.w3.org/2000/svg\" height=\"24px\"viewBox=\"0 0 24 24\"\n",
              "       width=\"24px\">\n",
              "    <path d=\"M0 0h24v24H0V0z\" fill=\"none\"/>\n",
              "    <path d=\"M18.56 5.44l.94 2.06.94-2.06 2.06-.94-2.06-.94-.94-2.06-.94 2.06-2.06.94zm-11 1L8.5 8.5l.94-2.06 2.06-.94-2.06-.94L8.5 2.5l-.94 2.06-2.06.94zm10 10l.94 2.06.94-2.06 2.06-.94-2.06-.94-.94-2.06-.94 2.06-2.06.94z\"/><path d=\"M17.41 7.96l-1.37-1.37c-.4-.4-.92-.59-1.43-.59-.52 0-1.04.2-1.43.59L10.3 9.45l-7.72 7.72c-.78.78-.78 2.05 0 2.83L4 21.41c.39.39.9.59 1.41.59.51 0 1.02-.2 1.41-.59l7.78-7.78 2.81-2.81c.8-.78.8-2.07 0-2.86zM5.41 20L4 18.59l7.72-7.72 1.47 1.35L5.41 20z\"/>\n",
              "  </svg>\n",
              "      </button>\n",
              "      \n",
              "  <style>\n",
              "    .colab-df-container {\n",
              "      display:flex;\n",
              "      flex-wrap:wrap;\n",
              "      gap: 12px;\n",
              "    }\n",
              "\n",
              "    .colab-df-convert {\n",
              "      background-color: #E8F0FE;\n",
              "      border: none;\n",
              "      border-radius: 50%;\n",
              "      cursor: pointer;\n",
              "      display: none;\n",
              "      fill: #1967D2;\n",
              "      height: 32px;\n",
              "      padding: 0 0 0 0;\n",
              "      width: 32px;\n",
              "    }\n",
              "\n",
              "    .colab-df-convert:hover {\n",
              "      background-color: #E2EBFA;\n",
              "      box-shadow: 0px 1px 2px rgba(60, 64, 67, 0.3), 0px 1px 3px 1px rgba(60, 64, 67, 0.15);\n",
              "      fill: #174EA6;\n",
              "    }\n",
              "\n",
              "    [theme=dark] .colab-df-convert {\n",
              "      background-color: #3B4455;\n",
              "      fill: #D2E3FC;\n",
              "    }\n",
              "\n",
              "    [theme=dark] .colab-df-convert:hover {\n",
              "      background-color: #434B5C;\n",
              "      box-shadow: 0px 1px 3px 1px rgba(0, 0, 0, 0.15);\n",
              "      filter: drop-shadow(0px 1px 2px rgba(0, 0, 0, 0.3));\n",
              "      fill: #FFFFFF;\n",
              "    }\n",
              "  </style>\n",
              "\n",
              "      <script>\n",
              "        const buttonEl =\n",
              "          document.querySelector('#df-220bdd5b-af89-4f1b-987a-6780cc5b40e1 button.colab-df-convert');\n",
              "        buttonEl.style.display =\n",
              "          google.colab.kernel.accessAllowed ? 'block' : 'none';\n",
              "\n",
              "        async function convertToInteractive(key) {\n",
              "          const element = document.querySelector('#df-220bdd5b-af89-4f1b-987a-6780cc5b40e1');\n",
              "          const dataTable =\n",
              "            await google.colab.kernel.invokeFunction('convertToInteractive',\n",
              "                                                     [key], {});\n",
              "          if (!dataTable) return;\n",
              "\n",
              "          const docLinkHtml = 'Like what you see? Visit the ' +\n",
              "            '<a target=\"_blank\" href=https://colab.research.google.com/notebooks/data_table.ipynb>data table notebook</a>'\n",
              "            + ' to learn more about interactive tables.';\n",
              "          element.innerHTML = '';\n",
              "          dataTable['output_type'] = 'display_data';\n",
              "          await google.colab.output.renderOutput(dataTable, element);\n",
              "          const docLink = document.createElement('div');\n",
              "          docLink.innerHTML = docLinkHtml;\n",
              "          element.appendChild(docLink);\n",
              "        }\n",
              "      </script>\n",
              "    </div>\n",
              "  </div>\n",
              "  "
            ]
          },
          "metadata": {},
          "execution_count": 45
        }
      ]
    },
    {
      "cell_type": "code",
      "source": [
        "df.sample(10)"
      ],
      "metadata": {
        "colab": {
          "base_uri": "https://localhost:8080/",
          "height": 359
        },
        "id": "mjzEh80CJT5j",
        "outputId": "755ab655-2c7c-4a65-e153-dd8756470b24"
      },
      "execution_count": null,
      "outputs": [
        {
          "output_type": "execute_result",
          "data": {
            "text/plain": [
              "                               Anime  \\\n",
              "79                 Nami yo Kiitekure   \n",
              "454                Mahou Shoujo Site   \n",
              "28   Shokugeki no Souma: Gou no Sara   \n",
              "914   Monster Musume no Iru Nichijou   \n",
              "593            Saiyuuki Reload Blast   \n",
              "705                        KochinPa!   \n",
              "383          Yuragi-sou no Yuuna-san   \n",
              "397             Jashin-chan Dropkick   \n",
              "621      Shingeki no Kyojin Season 2   \n",
              "272     Bungou Stray Dogs 3rd Season   \n",
              "\n",
              "                                                 Genre  \\\n",
              "79                      ['Comedy', 'Drama', 'Romance']   \n",
              "454                ['Drama', 'Horror', 'Supernatural']   \n",
              "28                                ['Gourmet', 'Ecchi']   \n",
              "914          ['Comedy', 'Fantasy', 'Romance', 'Ecchi']   \n",
              "593  ['Action', 'Adventure', 'Comedy', 'Drama', 'Su...   \n",
              "705                                             Comedy   \n",
              "383     ['Comedy', 'Romance', 'Supernatural', 'Ecchi']   \n",
              "397                         ['Comedy', 'Supernatural']   \n",
              "621                                ['Action', 'Drama']   \n",
              "272              ['Action', 'Mystery', 'Supernatural']   \n",
              "\n",
              "                                           Description           Studio  \\\n",
              "79   Restaurant worker Minare Koda has recently bee...          Sunrise   \n",
              "454  Every day, Aya Asagiri thinks about killing he...   production doA   \n",
              "28   Thanks to Souma Yukihira, Erina Nakiri, and th...        J.C.Staff   \n",
              "914  With his parents abroad, Kimihito Kurusu lived...           Lerche   \n",
              "593  At last, the Sanzou Party has arrived in India...  Platinum Vision   \n",
              "705  Anime adaptation of pachinko and slot machine ...              NaN   \n",
              "383  Once a hot springs inn, now a boarding house w...            Xebec   \n",
              "397  The demon Jashin-chan has been summoned to Ear...            Nomad   \n",
              "621  For centuries, humanity has been hunted by gia...       Wit Studio   \n",
              "272  Following the conclusion of the three-way orga...            Bones   \n",
              "\n",
              "          Year  Rating  \n",
              "79  2020-04-04     NaN  \n",
              "454 2018-04-07     NaN  \n",
              "28  2020-04-11     NaN  \n",
              "914 2015-07-08     NaN  \n",
              "593 2017-07-05     NaN  \n",
              "705 2015-12-22     NaN  \n",
              "383 2018-07-14     NaN  \n",
              "397 2018-07-10     NaN  \n",
              "621 2017-04-01    8.50  \n",
              "272 2019-04-12    8.21  "
            ],
            "text/html": [
              "\n",
              "  <div id=\"df-486c2828-8c19-4057-93ac-35ca925d8f8b\">\n",
              "    <div class=\"colab-df-container\">\n",
              "      <div>\n",
              "<style scoped>\n",
              "    .dataframe tbody tr th:only-of-type {\n",
              "        vertical-align: middle;\n",
              "    }\n",
              "\n",
              "    .dataframe tbody tr th {\n",
              "        vertical-align: top;\n",
              "    }\n",
              "\n",
              "    .dataframe thead th {\n",
              "        text-align: right;\n",
              "    }\n",
              "</style>\n",
              "<table border=\"1\" class=\"dataframe\">\n",
              "  <thead>\n",
              "    <tr style=\"text-align: right;\">\n",
              "      <th></th>\n",
              "      <th>Anime</th>\n",
              "      <th>Genre</th>\n",
              "      <th>Description</th>\n",
              "      <th>Studio</th>\n",
              "      <th>Year</th>\n",
              "      <th>Rating</th>\n",
              "    </tr>\n",
              "  </thead>\n",
              "  <tbody>\n",
              "    <tr>\n",
              "      <th>79</th>\n",
              "      <td>Nami yo Kiitekure</td>\n",
              "      <td>['Comedy', 'Drama', 'Romance']</td>\n",
              "      <td>Restaurant worker Minare Koda has recently bee...</td>\n",
              "      <td>Sunrise</td>\n",
              "      <td>2020-04-04</td>\n",
              "      <td>NaN</td>\n",
              "    </tr>\n",
              "    <tr>\n",
              "      <th>454</th>\n",
              "      <td>Mahou Shoujo Site</td>\n",
              "      <td>['Drama', 'Horror', 'Supernatural']</td>\n",
              "      <td>Every day, Aya Asagiri thinks about killing he...</td>\n",
              "      <td>production doA</td>\n",
              "      <td>2018-04-07</td>\n",
              "      <td>NaN</td>\n",
              "    </tr>\n",
              "    <tr>\n",
              "      <th>28</th>\n",
              "      <td>Shokugeki no Souma: Gou no Sara</td>\n",
              "      <td>['Gourmet', 'Ecchi']</td>\n",
              "      <td>Thanks to Souma Yukihira, Erina Nakiri, and th...</td>\n",
              "      <td>J.C.Staff</td>\n",
              "      <td>2020-04-11</td>\n",
              "      <td>NaN</td>\n",
              "    </tr>\n",
              "    <tr>\n",
              "      <th>914</th>\n",
              "      <td>Monster Musume no Iru Nichijou</td>\n",
              "      <td>['Comedy', 'Fantasy', 'Romance', 'Ecchi']</td>\n",
              "      <td>With his parents abroad, Kimihito Kurusu lived...</td>\n",
              "      <td>Lerche</td>\n",
              "      <td>2015-07-08</td>\n",
              "      <td>NaN</td>\n",
              "    </tr>\n",
              "    <tr>\n",
              "      <th>593</th>\n",
              "      <td>Saiyuuki Reload Blast</td>\n",
              "      <td>['Action', 'Adventure', 'Comedy', 'Drama', 'Su...</td>\n",
              "      <td>At last, the Sanzou Party has arrived in India...</td>\n",
              "      <td>Platinum Vision</td>\n",
              "      <td>2017-07-05</td>\n",
              "      <td>NaN</td>\n",
              "    </tr>\n",
              "    <tr>\n",
              "      <th>705</th>\n",
              "      <td>KochinPa!</td>\n",
              "      <td>Comedy</td>\n",
              "      <td>Anime adaptation of pachinko and slot machine ...</td>\n",
              "      <td>NaN</td>\n",
              "      <td>2015-12-22</td>\n",
              "      <td>NaN</td>\n",
              "    </tr>\n",
              "    <tr>\n",
              "      <th>383</th>\n",
              "      <td>Yuragi-sou no Yuuna-san</td>\n",
              "      <td>['Comedy', 'Romance', 'Supernatural', 'Ecchi']</td>\n",
              "      <td>Once a hot springs inn, now a boarding house w...</td>\n",
              "      <td>Xebec</td>\n",
              "      <td>2018-07-14</td>\n",
              "      <td>NaN</td>\n",
              "    </tr>\n",
              "    <tr>\n",
              "      <th>397</th>\n",
              "      <td>Jashin-chan Dropkick</td>\n",
              "      <td>['Comedy', 'Supernatural']</td>\n",
              "      <td>The demon Jashin-chan has been summoned to Ear...</td>\n",
              "      <td>Nomad</td>\n",
              "      <td>2018-07-10</td>\n",
              "      <td>NaN</td>\n",
              "    </tr>\n",
              "    <tr>\n",
              "      <th>621</th>\n",
              "      <td>Shingeki no Kyojin Season 2</td>\n",
              "      <td>['Action', 'Drama']</td>\n",
              "      <td>For centuries, humanity has been hunted by gia...</td>\n",
              "      <td>Wit Studio</td>\n",
              "      <td>2017-04-01</td>\n",
              "      <td>8.50</td>\n",
              "    </tr>\n",
              "    <tr>\n",
              "      <th>272</th>\n",
              "      <td>Bungou Stray Dogs 3rd Season</td>\n",
              "      <td>['Action', 'Mystery', 'Supernatural']</td>\n",
              "      <td>Following the conclusion of the three-way orga...</td>\n",
              "      <td>Bones</td>\n",
              "      <td>2019-04-12</td>\n",
              "      <td>8.21</td>\n",
              "    </tr>\n",
              "  </tbody>\n",
              "</table>\n",
              "</div>\n",
              "      <button class=\"colab-df-convert\" onclick=\"convertToInteractive('df-486c2828-8c19-4057-93ac-35ca925d8f8b')\"\n",
              "              title=\"Convert this dataframe to an interactive table.\"\n",
              "              style=\"display:none;\">\n",
              "        \n",
              "  <svg xmlns=\"http://www.w3.org/2000/svg\" height=\"24px\"viewBox=\"0 0 24 24\"\n",
              "       width=\"24px\">\n",
              "    <path d=\"M0 0h24v24H0V0z\" fill=\"none\"/>\n",
              "    <path d=\"M18.56 5.44l.94 2.06.94-2.06 2.06-.94-2.06-.94-.94-2.06-.94 2.06-2.06.94zm-11 1L8.5 8.5l.94-2.06 2.06-.94-2.06-.94L8.5 2.5l-.94 2.06-2.06.94zm10 10l.94 2.06.94-2.06 2.06-.94-2.06-.94-.94-2.06-.94 2.06-2.06.94z\"/><path d=\"M17.41 7.96l-1.37-1.37c-.4-.4-.92-.59-1.43-.59-.52 0-1.04.2-1.43.59L10.3 9.45l-7.72 7.72c-.78.78-.78 2.05 0 2.83L4 21.41c.39.39.9.59 1.41.59.51 0 1.02-.2 1.41-.59l7.78-7.78 2.81-2.81c.8-.78.8-2.07 0-2.86zM5.41 20L4 18.59l7.72-7.72 1.47 1.35L5.41 20z\"/>\n",
              "  </svg>\n",
              "      </button>\n",
              "      \n",
              "  <style>\n",
              "    .colab-df-container {\n",
              "      display:flex;\n",
              "      flex-wrap:wrap;\n",
              "      gap: 12px;\n",
              "    }\n",
              "\n",
              "    .colab-df-convert {\n",
              "      background-color: #E8F0FE;\n",
              "      border: none;\n",
              "      border-radius: 50%;\n",
              "      cursor: pointer;\n",
              "      display: none;\n",
              "      fill: #1967D2;\n",
              "      height: 32px;\n",
              "      padding: 0 0 0 0;\n",
              "      width: 32px;\n",
              "    }\n",
              "\n",
              "    .colab-df-convert:hover {\n",
              "      background-color: #E2EBFA;\n",
              "      box-shadow: 0px 1px 2px rgba(60, 64, 67, 0.3), 0px 1px 3px 1px rgba(60, 64, 67, 0.15);\n",
              "      fill: #174EA6;\n",
              "    }\n",
              "\n",
              "    [theme=dark] .colab-df-convert {\n",
              "      background-color: #3B4455;\n",
              "      fill: #D2E3FC;\n",
              "    }\n",
              "\n",
              "    [theme=dark] .colab-df-convert:hover {\n",
              "      background-color: #434B5C;\n",
              "      box-shadow: 0px 1px 3px 1px rgba(0, 0, 0, 0.15);\n",
              "      filter: drop-shadow(0px 1px 2px rgba(0, 0, 0, 0.3));\n",
              "      fill: #FFFFFF;\n",
              "    }\n",
              "  </style>\n",
              "\n",
              "      <script>\n",
              "        const buttonEl =\n",
              "          document.querySelector('#df-486c2828-8c19-4057-93ac-35ca925d8f8b button.colab-df-convert');\n",
              "        buttonEl.style.display =\n",
              "          google.colab.kernel.accessAllowed ? 'block' : 'none';\n",
              "\n",
              "        async function convertToInteractive(key) {\n",
              "          const element = document.querySelector('#df-486c2828-8c19-4057-93ac-35ca925d8f8b');\n",
              "          const dataTable =\n",
              "            await google.colab.kernel.invokeFunction('convertToInteractive',\n",
              "                                                     [key], {});\n",
              "          if (!dataTable) return;\n",
              "\n",
              "          const docLinkHtml = 'Like what you see? Visit the ' +\n",
              "            '<a target=\"_blank\" href=https://colab.research.google.com/notebooks/data_table.ipynb>data table notebook</a>'\n",
              "            + ' to learn more about interactive tables.';\n",
              "          element.innerHTML = '';\n",
              "          dataTable['output_type'] = 'display_data';\n",
              "          await google.colab.output.renderOutput(dataTable, element);\n",
              "          const docLink = document.createElement('div');\n",
              "          docLink.innerHTML = docLinkHtml;\n",
              "          element.appendChild(docLink);\n",
              "        }\n",
              "      </script>\n",
              "    </div>\n",
              "  </div>\n",
              "  "
            ]
          },
          "metadata": {},
          "execution_count": 24
        }
      ]
    },
    {
      "cell_type": "markdown",
      "source": [
        "Analyze and Visualize Data"
      ],
      "metadata": {
        "id": "oYqeFIm-MDcf"
      }
    },
    {
      "cell_type": "markdown",
      "source": [
        "Question 1: What are the top 10 anime best movies "
      ],
      "metadata": {
        "id": "cSRTDY6NMIGY"
      }
    },
    {
      "cell_type": "code",
      "source": [
        "# subset dataframe to contain the top ten Animes\n",
        "df1 = df[['Anime', 'Rating']].sort_values('Rating', ascending=False)[:10]"
      ],
      "metadata": {
        "id": "0vAfUaL7BDGx"
      },
      "execution_count": null,
      "outputs": []
    },
    {
      "cell_type": "code",
      "source": [
        "# Create a bar plot of movies\n",
        "def create_bar_plot(dataframe, y, width):\n",
        "  \"\"\"\n",
        "  Description: This function plots a horizontal bar chart\n",
        "  Input: Provide a pandas dataframe, the column to be plotted and its height\n",
        "  Output: Returns a plotted bar chart\n",
        "  \"\"\"\n",
        "  plt.figure(figsize=(15,10))\n",
        "  plt.barh(y=dataframe[y], width=dataframe[width])\n",
        "  plt.xlabel(\"Anime\")\n",
        "  plt.ylabel(\"Ranking\")\n",
        "  plt.title('Best Ranked Anime Movies')\n",
        "  plt.show()\n",
        "create_bar_plot(df1, 'Anime', 'Rating')"
      ],
      "metadata": {
        "colab": {
          "base_uri": "https://localhost:8080/",
          "height": 621
        },
        "id": "gsDFwl5XCocF",
        "outputId": "a276d978-ba08-4804-aa36-5f58f181e19d"
      },
      "execution_count": null,
      "outputs": [
        {
          "output_type": "display_data",
          "data": {
            "text/plain": [
              "<Figure size 1080x720 with 1 Axes>"
            ],
            "image/png": "[encoded data removed]"
          },
          "metadata": {
            "needs_background": "light"
          }
        }
      ]
    },
    {
      "cell_type": "markdown",
      "source": [
        "Question 2: What are the best movies to watch for each season"
      ],
      "metadata": {
        "id": "3WumCf0KGIHx"
      }
    },
    {
      "cell_type": "markdown",
      "source": [
        "Winter"
      ],
      "metadata": {
        "id": "jk-DxXj4GQHJ"
      }
    },
    {
      "cell_type": "code",
      "source": [
        "# Subset to winter only rows\n",
        "df_winter = df[df['Season'] == 'Winter']"
      ],
      "metadata": {
        "id": "u8nyl9ELBVdz"
      },
      "execution_count": null,
      "outputs": []
    },
    {
      "cell_type": "code",
      "source": [
        "df1_winter = df_winter[['Anime', 'Rating']].sort_values('Rating', ascending=False)[:10]"
      ],
      "metadata": {
        "id": "iqrVa00ICbIK"
      },
      "execution_count": null,
      "outputs": []
    },
    {
      "cell_type": "code",
      "source": [
        "# Plot bar chart \n",
        "create_bar_plot(df1_winter, 'Anime', 'Rating')"
      ],
      "metadata": {
        "id": "NO7BmkvDD1Ec"
      },
      "execution_count": null,
      "outputs": []
    },
    {
      "cell_type": "markdown",
      "source": [
        "Spring"
      ],
      "metadata": {
        "id": "eLVj1q4xEkjb"
      }
    },
    {
      "cell_type": "code",
      "source": [
        "# Subset to spring only rows\n",
        "df_spring = df[df['Season'] == 'Spring']"
      ],
      "metadata": {
        "id": "epPnPomOEmhO"
      },
      "execution_count": null,
      "outputs": []
    },
    {
      "cell_type": "code",
      "source": [
        "df1_spring = df_spring[['Anime', 'Rating']].sort_values('Rating', ascending=False)[:10]"
      ],
      "metadata": {
        "id": "IYZ2m6brFA-r"
      },
      "execution_count": null,
      "outputs": []
    },
    {
      "cell_type": "code",
      "source": [
        "# Plot bar chart \n",
        "create_bar_plot(df1_spring, 'Anime', 'Rating')"
      ],
      "metadata": {
        "id": "3dtaw0kbFJ1Q"
      },
      "execution_count": null,
      "outputs": []
    },
    {
      "cell_type": "markdown",
      "source": [
        "Summer"
      ],
      "metadata": {
        "id": "UeWMWERiFYgk"
      }
    },
    {
      "cell_type": "code",
      "source": [
        "# Subset to summer only rows\n",
        "df_summer = df[df['Season'] == 'Summer']"
      ],
      "metadata": {
        "id": "cwd3paJyFhf-"
      },
      "execution_count": null,
      "outputs": []
    },
    {
      "cell_type": "code",
      "source": [
        "df1_summer = df_summer[['Anime', 'Rating']].sort_values('Rating', ascending=False)[:10]"
      ],
      "metadata": {
        "id": "-DZy5D0AFqYv"
      },
      "execution_count": null,
      "outputs": []
    },
    {
      "cell_type": "code",
      "source": [
        "# Plot bar chart \n",
        "create_bar_plot(df1_summer, 'Anime', 'Rating')"
      ],
      "metadata": {
        "id": "LM39VpTiF_Ju"
      },
      "execution_count": null,
      "outputs": []
    },
    {
      "cell_type": "markdown",
      "source": [
        "Autumn"
      ],
      "metadata": {
        "id": "hiyuL3_AGPGl"
      }
    },
    {
      "cell_type": "code",
      "source": [
        "# Subset to summer only rows\n",
        "df_autumn = df[df['Season'] == 'Autumn']"
      ],
      "metadata": {
        "id": "VJRmUxW4GROQ"
      },
      "execution_count": null,
      "outputs": []
    },
    {
      "cell_type": "code",
      "source": [
        "df1_autumn = df_autumn[['Anime', 'Rating']].sort_values('Rating', ascending=False)[:10]"
      ],
      "metadata": {
        "id": "sJSkXsRoGZHV"
      },
      "execution_count": null,
      "outputs": []
    },
    {
      "cell_type": "code",
      "source": [
        "# Plot bar chart \n",
        "create_bar_plot(df1_autumn, 'Anime', 'Rating')"
      ],
      "metadata": {
        "id": "wpbjYh_AG0hH"
      },
      "execution_count": null,
      "outputs": []
    },
    {
      "cell_type": "markdown",
      "source": [
        "Question: What Genre do most anime watchers love?"
      ],
      "metadata": {
        "id": "D_JsqRnLIVpj"
      }
    },
    {
      "cell_type": "code",
      "source": [
        "# Sum anime ratings according to genre\n",
        "df2_genre_rating = df.groupby('Genre').agg({\"Rating\":'sum'})\n",
        "\n",
        "# Count the number of anime movies according to genre\n",
        "df2_genre_count = df.groupby('Genre').agg({\"Rating\":'count'})\n",
        "\n",
        "# Calculate the average movie rating by genre\n",
        "df2_genre = (df2_genre_rating / df2_genre_count).sort_values('Rating', ascending=False)[:5]\n",
        "df2_genre"
      ],
      "metadata": {
        "colab": {
          "base_uri": "https://localhost:8080/",
          "height": 235
        },
        "id": "Xa6xqAzoIdXH",
        "outputId": "7df853a6-bfb9-4c2d-ead7-b0de5c9f26a0"
      },
      "execution_count": null,
      "outputs": [
        {
          "output_type": "execute_result",
          "data": {
            "text/plain": [
              "                                                      Rating\n",
              "Genre                                                       \n",
              "['Comedy', 'Mystery', 'Supernatural']               8.900000\n",
              "['Action', 'Comedy', 'Sci-Fi']                      8.893333\n",
              "['Drama', 'Slice of Life']                          8.670000\n",
              "['Drama', 'Fantasy', 'Slice of Life']               8.670000\n",
              "['Adventure', 'Drama', 'Fantasy', 'Mystery', 'S...  8.670000"
            ],
            "text/html": [
              "\n",
              "  <div id=\"df-3ee41217-71c5-421a-b78c-463542129ab3\">\n",
              "    <div class=\"colab-df-container\">\n",
              "      <div>\n",
              "<style scoped>\n",
              "    .dataframe tbody tr th:only-of-type {\n",
              "        vertical-align: middle;\n",
              "    }\n",
              "\n",
              "    .dataframe tbody tr th {\n",
              "        vertical-align: top;\n",
              "    }\n",
              "\n",
              "    .dataframe thead th {\n",
              "        text-align: right;\n",
              "    }\n",
              "</style>\n",
              "<table border=\"1\" class=\"dataframe\">\n",
              "  <thead>\n",
              "    <tr style=\"text-align: right;\">\n",
              "      <th></th>\n",
              "      <th>Rating</th>\n",
              "    </tr>\n",
              "    <tr>\n",
              "      <th>Genre</th>\n",
              "      <th></th>\n",
              "    </tr>\n",
              "  </thead>\n",
              "  <tbody>\n",
              "    <tr>\n",
              "      <th>['Comedy', 'Mystery', 'Supernatural']</th>\n",
              "      <td>8.900000</td>\n",
              "    </tr>\n",
              "    <tr>\n",
              "      <th>['Action', 'Comedy', 'Sci-Fi']</th>\n",
              "      <td>8.893333</td>\n",
              "    </tr>\n",
              "    <tr>\n",
              "      <th>['Drama', 'Slice of Life']</th>\n",
              "      <td>8.670000</td>\n",
              "    </tr>\n",
              "    <tr>\n",
              "      <th>['Drama', 'Fantasy', 'Slice of Life']</th>\n",
              "      <td>8.670000</td>\n",
              "    </tr>\n",
              "    <tr>\n",
              "      <th>['Adventure', 'Drama', 'Fantasy', 'Mystery', 'Sci-Fi']</th>\n",
              "      <td>8.670000</td>\n",
              "    </tr>\n",
              "  </tbody>\n",
              "</table>\n",
              "</div>\n",
              "      <button class=\"colab-df-convert\" onclick=\"convertToInteractive('df-3ee41217-71c5-421a-b78c-463542129ab3')\"\n",
              "              title=\"Convert this dataframe to an interactive table.\"\n",
              "              style=\"display:none;\">\n",
              "        \n",
              "  <svg xmlns=\"http://www.w3.org/2000/svg\" height=\"24px\"viewBox=\"0 0 24 24\"\n",
              "       width=\"24px\">\n",
              "    <path d=\"M0 0h24v24H0V0z\" fill=\"none\"/>\n",
              "    <path d=\"M18.56 5.44l.94 2.06.94-2.06 2.06-.94-2.06-.94-.94-2.06-.94 2.06-2.06.94zm-11 1L8.5 8.5l.94-2.06 2.06-.94-2.06-.94L8.5 2.5l-.94 2.06-2.06.94zm10 10l.94 2.06.94-2.06 2.06-.94-2.06-.94-.94-2.06-.94 2.06-2.06.94z\"/><path d=\"M17.41 7.96l-1.37-1.37c-.4-.4-.92-.59-1.43-.59-.52 0-1.04.2-1.43.59L10.3 9.45l-7.72 7.72c-.78.78-.78 2.05 0 2.83L4 21.41c.39.39.9.59 1.41.59.51 0 1.02-.2 1.41-.59l7.78-7.78 2.81-2.81c.8-.78.8-2.07 0-2.86zM5.41 20L4 18.59l7.72-7.72 1.47 1.35L5.41 20z\"/>\n",
              "  </svg>\n",
              "      </button>\n",
              "      \n",
              "  <style>\n",
              "    .colab-df-container {\n",
              "      display:flex;\n",
              "      flex-wrap:wrap;\n",
              "      gap: 12px;\n",
              "    }\n",
              "\n",
              "    .colab-df-convert {\n",
              "      background-color: #E8F0FE;\n",
              "      border: none;\n",
              "      border-radius: 50%;\n",
              "      cursor: pointer;\n",
              "      display: none;\n",
              "      fill: #1967D2;\n",
              "      height: 32px;\n",
              "      padding: 0 0 0 0;\n",
              "      width: 32px;\n",
              "    }\n",
              "\n",
              "    .colab-df-convert:hover {\n",
              "      background-color: #E2EBFA;\n",
              "      box-shadow: 0px 1px 2px rgba(60, 64, 67, 0.3), 0px 1px 3px 1px rgba(60, 64, 67, 0.15);\n",
              "      fill: #174EA6;\n",
              "    }\n",
              "\n",
              "    [theme=dark] .colab-df-convert {\n",
              "      background-color: #3B4455;\n",
              "      fill: #D2E3FC;\n",
              "    }\n",
              "\n",
              "    [theme=dark] .colab-df-convert:hover {\n",
              "      background-color: #434B5C;\n",
              "      box-shadow: 0px 1px 3px 1px rgba(0, 0, 0, 0.15);\n",
              "      filter: drop-shadow(0px 1px 2px rgba(0, 0, 0, 0.3));\n",
              "      fill: #FFFFFF;\n",
              "    }\n",
              "  </style>\n",
              "\n",
              "      <script>\n",
              "        const buttonEl =\n",
              "          document.querySelector('#df-3ee41217-71c5-421a-b78c-463542129ab3 button.colab-df-convert');\n",
              "        buttonEl.style.display =\n",
              "          google.colab.kernel.accessAllowed ? 'block' : 'none';\n",
              "\n",
              "        async function convertToInteractive(key) {\n",
              "          const element = document.querySelector('#df-3ee41217-71c5-421a-b78c-463542129ab3');\n",
              "          const dataTable =\n",
              "            await google.colab.kernel.invokeFunction('convertToInteractive',\n",
              "                                                     [key], {});\n",
              "          if (!dataTable) return;\n",
              "\n",
              "          const docLinkHtml = 'Like what you see? Visit the ' +\n",
              "            '<a target=\"_blank\" href=https://colab.research.google.com/notebooks/data_table.ipynb>data table notebook</a>'\n",
              "            + ' to learn more about interactive tables.';\n",
              "          element.innerHTML = '';\n",
              "          dataTable['output_type'] = 'display_data';\n",
              "          await google.colab.output.renderOutput(dataTable, element);\n",
              "          const docLink = document.createElement('div');\n",
              "          docLink.innerHTML = docLinkHtml;\n",
              "          element.appendChild(docLink);\n",
              "        }\n",
              "      </script>\n",
              "    </div>\n",
              "  </div>\n",
              "  "
            ]
          },
          "metadata": {},
          "execution_count": 82
        }
      ]
    },
    {
      "cell_type": "code",
      "source": [
        "# Plot bar chart\n",
        "plt.figure(figsize=(15,10))\n",
        "plt.bar(x=df2_genre.index, height=df2_genre.Rating)\n",
        "plt.xlabel(\"Anime Genre\")\n",
        "plt.xticks(rotation=45)\n",
        "plt.ylabel(\"Average Rating\")\n",
        "plt.title('Top 5 Favorite Anime Genre')\n",
        "plt.show()"
      ],
      "metadata": {
        "colab": {
          "base_uri": "https://localhost:8080/",
          "height": 796
        },
        "id": "gUc6PDg6L3Wn",
        "outputId": "266a9df0-f174-4b6b-e8a5-cef5cf32dd71"
      },
      "execution_count": null,
      "outputs": [
        {
          "output_type": "display_data",
          "data": {
            "text/plain": [
              "<Figure size 1080x720 with 1 Axes>"
            ],
            "image/png": "[encoded data removed]"
          },
          "metadata": {
            "needs_background": "light"
          }
        }
      ]
    },
    {
      "cell_type": "markdown",
      "source": [
        "Question 4: Which Movie Studio Produces The Best Movie"
      ],
      "metadata": {
        "id": "MMFucDdWDvt1"
      }
    },
    {
      "cell_type": "code",
      "source": [
        "# Sum anime ratings according to studio\n",
        "df2_studio_rating = df.groupby('Studio').agg({\"Rating\":'sum'})\n",
        "\n",
        "# Count the number of anime produced by each studio\n",
        "df2_studio_count = df.groupby('Studio').agg({\"Rating\":'count'})\n",
        "\n",
        "# Calculate the average rating each studio gets per anime\n",
        "df2_studio = (df2_studio_rating / df2_studio_count).sort_values('Rating', ascending=False)[:5]\n",
        "df2_studio"
      ],
      "metadata": {
        "colab": {
          "base_uri": "https://localhost:8080/",
          "height": 235
        },
        "id": "_frrKpVWDUNw",
        "outputId": "b3eeef5e-cb66-4e43-8f81-33efe7331696"
      },
      "execution_count": null,
      "outputs": [
        {
          "output_type": "execute_result",
          "data": {
            "text/plain": [
              "                         Rating\n",
              "Studio                         \n",
              "Bandai Namco Pictures  8.893333\n",
              "Shaft                  8.746667\n",
              "Toei Animation         8.650000\n",
              "CloverWorks            8.540000\n",
              "A-1 Pictures           8.510000"
            ],
            "text/html": [
              "\n",
              "  <div id=\"df-9fe100f6-3708-4dc5-9daa-a11800b553e4\">\n",
              "    <div class=\"colab-df-container\">\n",
              "      <div>\n",
              "<style scoped>\n",
              "    .dataframe tbody tr th:only-of-type {\n",
              "        vertical-align: middle;\n",
              "    }\n",
              "\n",
              "    .dataframe tbody tr th {\n",
              "        vertical-align: top;\n",
              "    }\n",
              "\n",
              "    .dataframe thead th {\n",
              "        text-align: right;\n",
              "    }\n",
              "</style>\n",
              "<table border=\"1\" class=\"dataframe\">\n",
              "  <thead>\n",
              "    <tr style=\"text-align: right;\">\n",
              "      <th></th>\n",
              "      <th>Rating</th>\n",
              "    </tr>\n",
              "    <tr>\n",
              "      <th>Studio</th>\n",
              "      <th></th>\n",
              "    </tr>\n",
              "  </thead>\n",
              "  <tbody>\n",
              "    <tr>\n",
              "      <th>Bandai Namco Pictures</th>\n",
              "      <td>8.893333</td>\n",
              "    </tr>\n",
              "    <tr>\n",
              "      <th>Shaft</th>\n",
              "      <td>8.746667</td>\n",
              "    </tr>\n",
              "    <tr>\n",
              "      <th>Toei Animation</th>\n",
              "      <td>8.650000</td>\n",
              "    </tr>\n",
              "    <tr>\n",
              "      <th>CloverWorks</th>\n",
              "      <td>8.540000</td>\n",
              "    </tr>\n",
              "    <tr>\n",
              "      <th>A-1 Pictures</th>\n",
              "      <td>8.510000</td>\n",
              "    </tr>\n",
              "  </tbody>\n",
              "</table>\n",
              "</div>\n",
              "      <button class=\"colab-df-convert\" onclick=\"convertToInteractive('df-9fe100f6-3708-4dc5-9daa-a11800b553e4')\"\n",
              "              title=\"Convert this dataframe to an interactive table.\"\n",
              "              style=\"display:none;\">\n",
              "        \n",
              "  <svg xmlns=\"http://www.w3.org/2000/svg\" height=\"24px\"viewBox=\"0 0 24 24\"\n",
              "       width=\"24px\">\n",
              "    <path d=\"M0 0h24v24H0V0z\" fill=\"none\"/>\n",
              "    <path d=\"M18.56 5.44l.94 2.06.94-2.06 2.06-.94-2.06-.94-.94-2.06-.94 2.06-2.06.94zm-11 1L8.5 8.5l.94-2.06 2.06-.94-2.06-.94L8.5 2.5l-.94 2.06-2.06.94zm10 10l.94 2.06.94-2.06 2.06-.94-2.06-.94-.94-2.06-.94 2.06-2.06.94z\"/><path d=\"M17.41 7.96l-1.37-1.37c-.4-.4-.92-.59-1.43-.59-.52 0-1.04.2-1.43.59L10.3 9.45l-7.72 7.72c-.78.78-.78 2.05 0 2.83L4 21.41c.39.39.9.59 1.41.59.51 0 1.02-.2 1.41-.59l7.78-7.78 2.81-2.81c.8-.78.8-2.07 0-2.86zM5.41 20L4 18.59l7.72-7.72 1.47 1.35L5.41 20z\"/>\n",
              "  </svg>\n",
              "      </button>\n",
              "      \n",
              "  <style>\n",
              "    .colab-df-container {\n",
              "      display:flex;\n",
              "      flex-wrap:wrap;\n",
              "      gap: 12px;\n",
              "    }\n",
              "\n",
              "    .colab-df-convert {\n",
              "      background-color: #E8F0FE;\n",
              "      border: none;\n",
              "      border-radius: 50%;\n",
              "      cursor: pointer;\n",
              "      display: none;\n",
              "      fill: #1967D2;\n",
              "      height: 32px;\n",
              "      padding: 0 0 0 0;\n",
              "      width: 32px;\n",
              "    }\n",
              "\n",
              "    .colab-df-convert:hover {\n",
              "      background-color: #E2EBFA;\n",
              "      box-shadow: 0px 1px 2px rgba(60, 64, 67, 0.3), 0px 1px 3px 1px rgba(60, 64, 67, 0.15);\n",
              "      fill: #174EA6;\n",
              "    }\n",
              "\n",
              "    [theme=dark] .colab-df-convert {\n",
              "      background-color: #3B4455;\n",
              "      fill: #D2E3FC;\n",
              "    }\n",
              "\n",
              "    [theme=dark] .colab-df-convert:hover {\n",
              "      background-color: #434B5C;\n",
              "      box-shadow: 0px 1px 3px 1px rgba(0, 0, 0, 0.15);\n",
              "      filter: drop-shadow(0px 1px 2px rgba(0, 0, 0, 0.3));\n",
              "      fill: #FFFFFF;\n",
              "    }\n",
              "  </style>\n",
              "\n",
              "      <script>\n",
              "        const buttonEl =\n",
              "          document.querySelector('#df-9fe100f6-3708-4dc5-9daa-a11800b553e4 button.colab-df-convert');\n",
              "        buttonEl.style.display =\n",
              "          google.colab.kernel.accessAllowed ? 'block' : 'none';\n",
              "\n",
              "        async function convertToInteractive(key) {\n",
              "          const element = document.querySelector('#df-9fe100f6-3708-4dc5-9daa-a11800b553e4');\n",
              "          const dataTable =\n",
              "            await google.colab.kernel.invokeFunction('convertToInteractive',\n",
              "                                                     [key], {});\n",
              "          if (!dataTable) return;\n",
              "\n",
              "          const docLinkHtml = 'Like what you see? Visit the ' +\n",
              "            '<a target=\"_blank\" href=https://colab.research.google.com/notebooks/data_table.ipynb>data table notebook</a>'\n",
              "            + ' to learn more about interactive tables.';\n",
              "          element.innerHTML = '';\n",
              "          dataTable['output_type'] = 'display_data';\n",
              "          await google.colab.output.renderOutput(dataTable, element);\n",
              "          const docLink = document.createElement('div');\n",
              "          docLink.innerHTML = docLinkHtml;\n",
              "          element.appendChild(docLink);\n",
              "        }\n",
              "      </script>\n",
              "    </div>\n",
              "  </div>\n",
              "  "
            ]
          },
          "metadata": {},
          "execution_count": 92
        }
      ]
    },
    {
      "cell_type": "code",
      "source": [
        "# Plot bar chart\n",
        "plt.figure(figsize=(15,10))\n",
        "plt.bar(x=df2_studio.index, height=df2_studio.Rating)\n",
        "plt.xlabel(\"Studio\")\n",
        "plt.ylabel(\"Average Rating\")\n",
        "plt.title('Top 5 Favorite Anime Studio')\n",
        "plt.show()"
      ],
      "metadata": {
        "colab": {
          "base_uri": "https://localhost:8080/",
          "height": 621
        },
        "id": "s-B3934tEJXS",
        "outputId": "acdf194c-9ddd-4d0b-e98a-6589901aeb01"
      },
      "execution_count": null,
      "outputs": [
        {
          "output_type": "display_data",
          "data": {
            "text/plain": [
              "<Figure size 1080x720 with 1 Axes>"
            ],
            "image/png": "[encoded data removed]"
          },
          "metadata": {
            "needs_background": "light"
          }
        }
      ]
    }
  ]
}